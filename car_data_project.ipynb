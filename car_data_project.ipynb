{
 "cells": [
  {
   "cell_type": "code",
   "execution_count": 1,
   "id": "4de5ffe0-dcd2-45c1-ad54-2fbd0b22a833",
   "metadata": {},
   "outputs": [],
   "source": [
    "import pandas as pd\n",
    "import numpy as np\n",
    "import matplotlib.pyplot as plt\n",
    "import seaborn as sns"
   ]
  },
  {
   "cell_type": "code",
   "execution_count": 2,
   "id": "1a7180a5-2065-4be8-a0d2-74c16af3ad94",
   "metadata": {},
   "outputs": [],
   "source": [
    "from datetime import datetime\n",
    "current_datetime = datetime.now()\n",
    "current_year = current_datetime.year"
   ]
  },
  {
   "cell_type": "code",
   "execution_count": 3,
   "id": "1819d47e-ccbb-440e-a4b4-184bcc7ff6f4",
   "metadata": {},
   "outputs": [],
   "source": [
    "df = pd.read_csv('car_prediction_dataset.csv')"
   ]
  },
  {
   "cell_type": "code",
   "execution_count": 4,
   "id": "b71da77a-bd3c-4bc1-a239-c057d78a9080",
   "metadata": {},
   "outputs": [
    {
     "data": {
      "text/html": [
       "<div>\n",
       "<style scoped>\n",
       "    .dataframe tbody tr th:only-of-type {\n",
       "        vertical-align: middle;\n",
       "    }\n",
       "\n",
       "    .dataframe tbody tr th {\n",
       "        vertical-align: top;\n",
       "    }\n",
       "\n",
       "    .dataframe thead th {\n",
       "        text-align: right;\n",
       "    }\n",
       "</style>\n",
       "<table border=\"1\" class=\"dataframe\">\n",
       "  <thead>\n",
       "    <tr style=\"text-align: right;\">\n",
       "      <th></th>\n",
       "      <th>name</th>\n",
       "      <th>year</th>\n",
       "      <th>selling_price</th>\n",
       "      <th>km_driven</th>\n",
       "      <th>fuel</th>\n",
       "      <th>seller_type</th>\n",
       "      <th>transmission</th>\n",
       "      <th>owner</th>\n",
       "      <th>mileage(km/ltr/kg)</th>\n",
       "      <th>engine</th>\n",
       "      <th>max_power</th>\n",
       "      <th>seats</th>\n",
       "    </tr>\n",
       "  </thead>\n",
       "  <tbody>\n",
       "    <tr>\n",
       "      <th>0</th>\n",
       "      <td>Maruti Swift Dzire VDI</td>\n",
       "      <td>2014</td>\n",
       "      <td>450000</td>\n",
       "      <td>145500</td>\n",
       "      <td>Diesel</td>\n",
       "      <td>Individual</td>\n",
       "      <td>Manual</td>\n",
       "      <td>First Owner</td>\n",
       "      <td>23.40</td>\n",
       "      <td>1248.0</td>\n",
       "      <td>74</td>\n",
       "      <td>5.0</td>\n",
       "    </tr>\n",
       "    <tr>\n",
       "      <th>1</th>\n",
       "      <td>Skoda Rapid 1.5 TDI Ambition</td>\n",
       "      <td>2014</td>\n",
       "      <td>370000</td>\n",
       "      <td>120000</td>\n",
       "      <td>Diesel</td>\n",
       "      <td>Individual</td>\n",
       "      <td>Manual</td>\n",
       "      <td>Second Owner</td>\n",
       "      <td>21.14</td>\n",
       "      <td>1498.0</td>\n",
       "      <td>103.52</td>\n",
       "      <td>5.0</td>\n",
       "    </tr>\n",
       "    <tr>\n",
       "      <th>2</th>\n",
       "      <td>Honda City 2017-2020 EXi</td>\n",
       "      <td>2006</td>\n",
       "      <td>158000</td>\n",
       "      <td>140000</td>\n",
       "      <td>Petrol</td>\n",
       "      <td>Individual</td>\n",
       "      <td>Manual</td>\n",
       "      <td>Third Owner</td>\n",
       "      <td>17.70</td>\n",
       "      <td>1497.0</td>\n",
       "      <td>78</td>\n",
       "      <td>5.0</td>\n",
       "    </tr>\n",
       "    <tr>\n",
       "      <th>3</th>\n",
       "      <td>Hyundai i20 Sportz Diesel</td>\n",
       "      <td>2010</td>\n",
       "      <td>225000</td>\n",
       "      <td>127000</td>\n",
       "      <td>Diesel</td>\n",
       "      <td>Individual</td>\n",
       "      <td>Manual</td>\n",
       "      <td>First Owner</td>\n",
       "      <td>23.00</td>\n",
       "      <td>1396.0</td>\n",
       "      <td>90</td>\n",
       "      <td>5.0</td>\n",
       "    </tr>\n",
       "    <tr>\n",
       "      <th>4</th>\n",
       "      <td>Maruti Swift VXI BSIII</td>\n",
       "      <td>2007</td>\n",
       "      <td>130000</td>\n",
       "      <td>120000</td>\n",
       "      <td>Petrol</td>\n",
       "      <td>Individual</td>\n",
       "      <td>Manual</td>\n",
       "      <td>First Owner</td>\n",
       "      <td>16.10</td>\n",
       "      <td>1298.0</td>\n",
       "      <td>88.2</td>\n",
       "      <td>5.0</td>\n",
       "    </tr>\n",
       "  </tbody>\n",
       "</table>\n",
       "</div>"
      ],
      "text/plain": [
       "                           name  year  selling_price  km_driven    fuel  \\\n",
       "0        Maruti Swift Dzire VDI  2014         450000     145500  Diesel   \n",
       "1  Skoda Rapid 1.5 TDI Ambition  2014         370000     120000  Diesel   \n",
       "2      Honda City 2017-2020 EXi  2006         158000     140000  Petrol   \n",
       "3     Hyundai i20 Sportz Diesel  2010         225000     127000  Diesel   \n",
       "4        Maruti Swift VXI BSIII  2007         130000     120000  Petrol   \n",
       "\n",
       "  seller_type transmission         owner  mileage(km/ltr/kg)  engine  \\\n",
       "0  Individual       Manual   First Owner               23.40  1248.0   \n",
       "1  Individual       Manual  Second Owner               21.14  1498.0   \n",
       "2  Individual       Manual   Third Owner               17.70  1497.0   \n",
       "3  Individual       Manual   First Owner               23.00  1396.0   \n",
       "4  Individual       Manual   First Owner               16.10  1298.0   \n",
       "\n",
       "  max_power  seats  \n",
       "0        74    5.0  \n",
       "1    103.52    5.0  \n",
       "2        78    5.0  \n",
       "3        90    5.0  \n",
       "4      88.2    5.0  "
      ]
     },
     "execution_count": 4,
     "metadata": {},
     "output_type": "execute_result"
    }
   ],
   "source": [
    "df.head()"
   ]
  },
  {
   "cell_type": "code",
   "execution_count": 5,
   "id": "b6adc969-5ac7-4c1c-85b5-0548cbac1c3e",
   "metadata": {},
   "outputs": [
    {
     "data": {
      "text/plain": [
       "8128"
      ]
     },
     "execution_count": 5,
     "metadata": {},
     "output_type": "execute_result"
    }
   ],
   "source": [
    "df.shape[0]"
   ]
  },
  {
   "cell_type": "code",
   "execution_count": 6,
   "id": "53fbcaba-f6e6-4a42-867a-1769d08cbb84",
   "metadata": {},
   "outputs": [
    {
     "data": {
      "text/plain": [
       "Index(['name', 'year', 'selling_price', 'km_driven', 'fuel', 'seller_type',\n",
       "       'transmission', 'owner', 'mileage(km/ltr/kg)', 'engine', 'max_power',\n",
       "       'seats'],\n",
       "      dtype='object')"
      ]
     },
     "execution_count": 6,
     "metadata": {},
     "output_type": "execute_result"
    }
   ],
   "source": [
    "df.columns"
   ]
  },
  {
   "cell_type": "code",
   "execution_count": 7,
   "id": "900c4b95-f7e5-47d3-81d8-98b6e9afa589",
   "metadata": {},
   "outputs": [
    {
     "data": {
      "text/plain": [
       "name\n",
       "Maruti Swift Dzire VDI                     129\n",
       "Maruti Alto 800 LXI                         82\n",
       "Maruti Alto LXi                             71\n",
       "BMW X4 M Sport X xDrive20d                  62\n",
       "Maruti Swift VDI                            61\n",
       "                                          ... \n",
       "Volkswagen Polo Select 1.2 MPI Highline      1\n",
       "Ford Ecosport 1.5 Petrol Titanium            1\n",
       "Honda Accord 2.4 A/T                         1\n",
       "Audi A3 40 TFSI Premium                      1\n",
       "Maruti SX4 ZXI MT BSIV                       1\n",
       "Name: count, Length: 2058, dtype: int64"
      ]
     },
     "execution_count": 7,
     "metadata": {},
     "output_type": "execute_result"
    }
   ],
   "source": [
    "df['name'].value_counts()"
   ]
  },
  {
   "cell_type": "code",
   "execution_count": 8,
   "id": "f12ef855-3b4d-4c33-afb1-c697008bd998",
   "metadata": {},
   "outputs": [
    {
     "data": {
      "text/plain": [
       "name                    0\n",
       "year                    0\n",
       "selling_price           0\n",
       "km_driven               0\n",
       "fuel                    0\n",
       "seller_type             0\n",
       "transmission            0\n",
       "owner                   0\n",
       "mileage(km/ltr/kg)    221\n",
       "engine                221\n",
       "max_power             215\n",
       "seats                 221\n",
       "dtype: int64"
      ]
     },
     "execution_count": 8,
     "metadata": {},
     "output_type": "execute_result"
    }
   ],
   "source": [
    "df.isnull().sum()"
   ]
  },
  {
   "cell_type": "code",
   "execution_count": 9,
   "id": "e44f4383-990e-44ab-9e24-3a39b52bb2f1",
   "metadata": {},
   "outputs": [
    {
     "data": {
      "text/plain": [
       "name                    0\n",
       "year                    0\n",
       "selling_price           0\n",
       "km_driven               0\n",
       "fuel                    0\n",
       "seller_type             0\n",
       "transmission            0\n",
       "owner                   0\n",
       "mileage(km/ltr/kg)    221\n",
       "engine                221\n",
       "max_power             215\n",
       "seats                 221\n",
       "dtype: int64"
      ]
     },
     "execution_count": 9,
     "metadata": {},
     "output_type": "execute_result"
    }
   ],
   "source": [
    "# df.dropna(inplace=True)\n",
    "df.isnull().sum()"
   ]
  },
  {
   "cell_type": "code",
   "execution_count": 10,
   "id": "a2ce096d-40eb-4636-8c0a-0860ecc81c39",
   "metadata": {},
   "outputs": [
    {
     "data": {
      "text/plain": [
       "8128"
      ]
     },
     "execution_count": 10,
     "metadata": {},
     "output_type": "execute_result"
    }
   ],
   "source": [
    "df.fillna(value=5.0, inplace=True)\n",
    "df['mileage(km/ltr/kg)'].shape[0]"
   ]
  },
  {
   "cell_type": "code",
   "execution_count": 11,
   "id": "b59aaac6-489a-4e2a-88d2-124f30c73075",
   "metadata": {},
   "outputs": [
    {
     "name": "stdout",
     "output_type": "stream",
     "text": [
      "There are 1202 duplicates in your data.\n"
     ]
    }
   ],
   "source": [
    "dups = int(df.duplicated().sum())\n",
    "print(f\"There are {dups} duplicates in your data.\")"
   ]
  },
  {
   "cell_type": "code",
   "execution_count": null,
   "id": "6ef24203-6e1c-4309-91d4-803fa40997eb",
   "metadata": {},
   "outputs": [],
   "source": []
  },
  {
   "cell_type": "code",
   "execution_count": 12,
   "id": "0ba2ec15-0354-4bc8-b5cb-e424972f7f5e",
   "metadata": {},
   "outputs": [
    {
     "data": {
      "text/html": [
       "<div>\n",
       "<style scoped>\n",
       "    .dataframe tbody tr th:only-of-type {\n",
       "        vertical-align: middle;\n",
       "    }\n",
       "\n",
       "    .dataframe tbody tr th {\n",
       "        vertical-align: top;\n",
       "    }\n",
       "\n",
       "    .dataframe thead th {\n",
       "        text-align: right;\n",
       "    }\n",
       "</style>\n",
       "<table border=\"1\" class=\"dataframe\">\n",
       "  <thead>\n",
       "    <tr style=\"text-align: right;\">\n",
       "      <th></th>\n",
       "      <th>name</th>\n",
       "      <th>year</th>\n",
       "      <th>selling_price</th>\n",
       "      <th>km_driven</th>\n",
       "      <th>fuel</th>\n",
       "      <th>seller_type</th>\n",
       "      <th>transmission</th>\n",
       "      <th>owner</th>\n",
       "      <th>mileage(km/ltr/kg)</th>\n",
       "      <th>engine</th>\n",
       "      <th>max_power</th>\n",
       "      <th>seats</th>\n",
       "    </tr>\n",
       "  </thead>\n",
       "  <tbody>\n",
       "    <tr>\n",
       "      <th>170</th>\n",
       "      <td>Volvo XC90 T8 Excellence BSIV</td>\n",
       "      <td>2017</td>\n",
       "      <td>10000000</td>\n",
       "      <td>30000</td>\n",
       "      <td>Petrol</td>\n",
       "      <td>Individual</td>\n",
       "      <td>Automatic</td>\n",
       "      <td>First Owner</td>\n",
       "      <td>42.0</td>\n",
       "      <td>1969.0</td>\n",
       "      <td>400</td>\n",
       "      <td>4.0</td>\n",
       "    </tr>\n",
       "  </tbody>\n",
       "</table>\n",
       "</div>"
      ],
      "text/plain": [
       "                              name  year  selling_price  km_driven    fuel  \\\n",
       "170  Volvo XC90 T8 Excellence BSIV  2017       10000000      30000  Petrol   \n",
       "\n",
       "    seller_type transmission        owner  mileage(km/ltr/kg)  engine  \\\n",
       "170  Individual    Automatic  First Owner                42.0  1969.0   \n",
       "\n",
       "    max_power  seats  \n",
       "170       400    4.0  "
      ]
     },
     "execution_count": 12,
     "metadata": {},
     "output_type": "execute_result"
    }
   ],
   "source": [
    "df[df['selling_price'] > 0.8e7]"
   ]
  },
  {
   "cell_type": "markdown",
   "id": "ffaf87a6-486d-4416-ba99-0f59a2b984d1",
   "metadata": {},
   "source": [
    "### plotting selling price vs year of all the cars"
   ]
  },
  {
   "cell_type": "code",
   "execution_count": 13,
   "id": "9d716a41-c8dc-4c56-870a-9a1becc04429",
   "metadata": {},
   "outputs": [
    {
     "data": {
      "image/png": "[encoded data removed]",
      "text/plain": [
       "<Figure size 640x480 with 1 Axes>"
      ]
     },
     "metadata": {},
     "output_type": "display_data"
    }
   ],
   "source": [
    "x = df['selling_price']\n",
    "df['y'] = current_year - df['year']\n",
    "\n",
    "plt.scatter(x,df['y'], marker='x', c='r')\n",
    "# sns.scatterplot(x='selling_price',y='year', data=df, marker='x')\n",
    "plt.show()"
   ]
  },
  {
   "cell_type": "markdown",
   "id": "c06f66fe-f79c-4bf6-b02d-a251ac207fdb",
   "metadata": {},
   "source": [
    "###### df[df['y'] > 40]"
   ]
  },
  {
   "cell_type": "code",
   "execution_count": 14,
   "id": "98a0db2d-9bcd-47b8-b012-5d015a46839a",
   "metadata": {},
   "outputs": [],
   "source": [
    "df.drop('y', axis=1, inplace=True)"
   ]
  },
  {
   "cell_type": "code",
   "execution_count": 15,
   "id": "ac9e48f5-88f0-4aea-8d2a-51bf8afb21c0",
   "metadata": {},
   "outputs": [],
   "source": [
    "# I want to buy a car which follows certain conditions:\n",
    "# 1) The car is under the budget (<400000).\n",
    "# 2) The car should be limited to a maximum of two owners.\n",
    "# 3) Car has a minimum life of n years.\n"
   ]
  },
  {
   "cell_type": "code",
   "execution_count": 16,
   "id": "b8f5ff31-ad5d-4518-8a4c-71b43fbd1598",
   "metadata": {},
   "outputs": [
    {
     "data": {
      "text/html": [
       "<div>\n",
       "<style scoped>\n",
       "    .dataframe tbody tr th:only-of-type {\n",
       "        vertical-align: middle;\n",
       "    }\n",
       "\n",
       "    .dataframe tbody tr th {\n",
       "        vertical-align: top;\n",
       "    }\n",
       "\n",
       "    .dataframe thead th {\n",
       "        text-align: right;\n",
       "    }\n",
       "</style>\n",
       "<table border=\"1\" class=\"dataframe\">\n",
       "  <thead>\n",
       "    <tr style=\"text-align: right;\">\n",
       "      <th></th>\n",
       "      <th>name</th>\n",
       "      <th>year</th>\n",
       "      <th>selling_price</th>\n",
       "      <th>km_driven</th>\n",
       "      <th>fuel</th>\n",
       "      <th>seller_type</th>\n",
       "      <th>transmission</th>\n",
       "      <th>owner</th>\n",
       "      <th>mileage(km/ltr/kg)</th>\n",
       "      <th>engine</th>\n",
       "      <th>max_power</th>\n",
       "      <th>seats</th>\n",
       "    </tr>\n",
       "  </thead>\n",
       "  <tbody>\n",
       "    <tr>\n",
       "      <th>0</th>\n",
       "      <td>Maruti Swift Dzire VDI</td>\n",
       "      <td>2014</td>\n",
       "      <td>450000</td>\n",
       "      <td>145500</td>\n",
       "      <td>Diesel</td>\n",
       "      <td>Individual</td>\n",
       "      <td>Manual</td>\n",
       "      <td>First Owner</td>\n",
       "      <td>23.40</td>\n",
       "      <td>1248.0</td>\n",
       "      <td>74</td>\n",
       "      <td>5.0</td>\n",
       "    </tr>\n",
       "    <tr>\n",
       "      <th>1</th>\n",
       "      <td>Skoda Rapid 1.5 TDI Ambition</td>\n",
       "      <td>2014</td>\n",
       "      <td>370000</td>\n",
       "      <td>120000</td>\n",
       "      <td>Diesel</td>\n",
       "      <td>Individual</td>\n",
       "      <td>Manual</td>\n",
       "      <td>Second Owner</td>\n",
       "      <td>21.14</td>\n",
       "      <td>1498.0</td>\n",
       "      <td>103.52</td>\n",
       "      <td>5.0</td>\n",
       "    </tr>\n",
       "    <tr>\n",
       "      <th>2</th>\n",
       "      <td>Honda City 2017-2020 EXi</td>\n",
       "      <td>2006</td>\n",
       "      <td>158000</td>\n",
       "      <td>140000</td>\n",
       "      <td>Petrol</td>\n",
       "      <td>Individual</td>\n",
       "      <td>Manual</td>\n",
       "      <td>Third Owner</td>\n",
       "      <td>17.70</td>\n",
       "      <td>1497.0</td>\n",
       "      <td>78</td>\n",
       "      <td>5.0</td>\n",
       "    </tr>\n",
       "    <tr>\n",
       "      <th>3</th>\n",
       "      <td>Hyundai i20 Sportz Diesel</td>\n",
       "      <td>2010</td>\n",
       "      <td>225000</td>\n",
       "      <td>127000</td>\n",
       "      <td>Diesel</td>\n",
       "      <td>Individual</td>\n",
       "      <td>Manual</td>\n",
       "      <td>First Owner</td>\n",
       "      <td>23.00</td>\n",
       "      <td>1396.0</td>\n",
       "      <td>90</td>\n",
       "      <td>5.0</td>\n",
       "    </tr>\n",
       "    <tr>\n",
       "      <th>4</th>\n",
       "      <td>Maruti Swift VXI BSIII</td>\n",
       "      <td>2007</td>\n",
       "      <td>130000</td>\n",
       "      <td>120000</td>\n",
       "      <td>Petrol</td>\n",
       "      <td>Individual</td>\n",
       "      <td>Manual</td>\n",
       "      <td>First Owner</td>\n",
       "      <td>16.10</td>\n",
       "      <td>1298.0</td>\n",
       "      <td>88.2</td>\n",
       "      <td>5.0</td>\n",
       "    </tr>\n",
       "    <tr>\n",
       "      <th>...</th>\n",
       "      <td>...</td>\n",
       "      <td>...</td>\n",
       "      <td>...</td>\n",
       "      <td>...</td>\n",
       "      <td>...</td>\n",
       "      <td>...</td>\n",
       "      <td>...</td>\n",
       "      <td>...</td>\n",
       "      <td>...</td>\n",
       "      <td>...</td>\n",
       "      <td>...</td>\n",
       "      <td>...</td>\n",
       "    </tr>\n",
       "    <tr>\n",
       "      <th>8123</th>\n",
       "      <td>Hyundai i20 Magna</td>\n",
       "      <td>2013</td>\n",
       "      <td>320000</td>\n",
       "      <td>110000</td>\n",
       "      <td>Petrol</td>\n",
       "      <td>Individual</td>\n",
       "      <td>Manual</td>\n",
       "      <td>First Owner</td>\n",
       "      <td>18.50</td>\n",
       "      <td>1197.0</td>\n",
       "      <td>82.85</td>\n",
       "      <td>5.0</td>\n",
       "    </tr>\n",
       "    <tr>\n",
       "      <th>8124</th>\n",
       "      <td>Hyundai Verna CRDi SX</td>\n",
       "      <td>2007</td>\n",
       "      <td>135000</td>\n",
       "      <td>119000</td>\n",
       "      <td>Diesel</td>\n",
       "      <td>Individual</td>\n",
       "      <td>Manual</td>\n",
       "      <td>Fourth &amp; Above Owner</td>\n",
       "      <td>16.80</td>\n",
       "      <td>1493.0</td>\n",
       "      <td>110</td>\n",
       "      <td>5.0</td>\n",
       "    </tr>\n",
       "    <tr>\n",
       "      <th>8125</th>\n",
       "      <td>Maruti Swift Dzire ZDi</td>\n",
       "      <td>2009</td>\n",
       "      <td>382000</td>\n",
       "      <td>120000</td>\n",
       "      <td>Diesel</td>\n",
       "      <td>Individual</td>\n",
       "      <td>Manual</td>\n",
       "      <td>First Owner</td>\n",
       "      <td>19.30</td>\n",
       "      <td>1248.0</td>\n",
       "      <td>73.9</td>\n",
       "      <td>5.0</td>\n",
       "    </tr>\n",
       "    <tr>\n",
       "      <th>8126</th>\n",
       "      <td>Tata Indigo CR4</td>\n",
       "      <td>2013</td>\n",
       "      <td>290000</td>\n",
       "      <td>25000</td>\n",
       "      <td>Diesel</td>\n",
       "      <td>Individual</td>\n",
       "      <td>Manual</td>\n",
       "      <td>First Owner</td>\n",
       "      <td>23.57</td>\n",
       "      <td>1396.0</td>\n",
       "      <td>70</td>\n",
       "      <td>5.0</td>\n",
       "    </tr>\n",
       "    <tr>\n",
       "      <th>8127</th>\n",
       "      <td>Tata Indigo CR4</td>\n",
       "      <td>2013</td>\n",
       "      <td>290000</td>\n",
       "      <td>25000</td>\n",
       "      <td>Diesel</td>\n",
       "      <td>Individual</td>\n",
       "      <td>Manual</td>\n",
       "      <td>First Owner</td>\n",
       "      <td>23.57</td>\n",
       "      <td>1396.0</td>\n",
       "      <td>70</td>\n",
       "      <td>5.0</td>\n",
       "    </tr>\n",
       "  </tbody>\n",
       "</table>\n",
       "<p>8128 rows × 12 columns</p>\n",
       "</div>"
      ],
      "text/plain": [
       "                              name  year  selling_price  km_driven    fuel  \\\n",
       "0           Maruti Swift Dzire VDI  2014         450000     145500  Diesel   \n",
       "1     Skoda Rapid 1.5 TDI Ambition  2014         370000     120000  Diesel   \n",
       "2         Honda City 2017-2020 EXi  2006         158000     140000  Petrol   \n",
       "3        Hyundai i20 Sportz Diesel  2010         225000     127000  Diesel   \n",
       "4           Maruti Swift VXI BSIII  2007         130000     120000  Petrol   \n",
       "...                            ...   ...            ...        ...     ...   \n",
       "8123             Hyundai i20 Magna  2013         320000     110000  Petrol   \n",
       "8124         Hyundai Verna CRDi SX  2007         135000     119000  Diesel   \n",
       "8125        Maruti Swift Dzire ZDi  2009         382000     120000  Diesel   \n",
       "8126               Tata Indigo CR4  2013         290000      25000  Diesel   \n",
       "8127               Tata Indigo CR4  2013         290000      25000  Diesel   \n",
       "\n",
       "     seller_type transmission                 owner  mileage(km/ltr/kg)  \\\n",
       "0     Individual       Manual           First Owner               23.40   \n",
       "1     Individual       Manual          Second Owner               21.14   \n",
       "2     Individual       Manual           Third Owner               17.70   \n",
       "3     Individual       Manual           First Owner               23.00   \n",
       "4     Individual       Manual           First Owner               16.10   \n",
       "...          ...          ...                   ...                 ...   \n",
       "8123  Individual       Manual           First Owner               18.50   \n",
       "8124  Individual       Manual  Fourth & Above Owner               16.80   \n",
       "8125  Individual       Manual           First Owner               19.30   \n",
       "8126  Individual       Manual           First Owner               23.57   \n",
       "8127  Individual       Manual           First Owner               23.57   \n",
       "\n",
       "      engine max_power  seats  \n",
       "0     1248.0        74    5.0  \n",
       "1     1498.0    103.52    5.0  \n",
       "2     1497.0        78    5.0  \n",
       "3     1396.0        90    5.0  \n",
       "4     1298.0      88.2    5.0  \n",
       "...      ...       ...    ...  \n",
       "8123  1197.0     82.85    5.0  \n",
       "8124  1493.0       110    5.0  \n",
       "8125  1248.0      73.9    5.0  \n",
       "8126  1396.0        70    5.0  \n",
       "8127  1396.0        70    5.0  \n",
       "\n",
       "[8128 rows x 12 columns]"
      ]
     },
     "execution_count": 16,
     "metadata": {},
     "output_type": "execute_result"
    }
   ],
   "source": [
    "df"
   ]
  },
  {
   "cell_type": "code",
   "execution_count": 17,
   "id": "648d65bd-5ac5-4014-92ee-285c959ea7cd",
   "metadata": {},
   "outputs": [],
   "source": [
    "shape1 = df.shape[0]"
   ]
  },
  {
   "cell_type": "markdown",
   "id": "74bd0b84-5df2-48a7-9ff6-bda38715d514",
   "metadata": {},
   "source": [
    "### REMOVING DUPLICATES"
   ]
  },
  {
   "cell_type": "code",
   "execution_count": 18,
   "id": "24483c66-35d1-4efd-a5c4-56ff9d86e41a",
   "metadata": {},
   "outputs": [
    {
     "name": "stdout",
     "output_type": "stream",
     "text": [
      "There were 1202 duplicates in your data which have been successfully removed.\n"
     ]
    }
   ],
   "source": [
    "df.drop_duplicates(inplace=True)\n",
    "# shape2 = df.shape[0]\n",
    "print(f\"There were {dups} duplicates in your data which have been successfully removed.\")"
   ]
  },
  {
   "cell_type": "markdown",
   "id": "31b02e71-d391-43c8-83c8-c129cebc2dfc",
   "metadata": {},
   "source": [
    "### Taking user input"
   ]
  },
  {
   "cell_type": "code",
   "execution_count": 19,
   "id": "4348cfa1-a815-49d3-a097-279e4bc82cce",
   "metadata": {},
   "outputs": [
    {
     "name": "stdin",
     "output_type": "stream",
     "text": [
      "Enter the min budget:  700000\n",
      "Enter the max budget:  1200000\n",
      "Enter the minimum life span required for the car:  7\n",
      "Enter the fuel type, Diesel, Petrol or CNG:  petrol\n"
     ]
    }
   ],
   "source": [
    "#user input\n",
    "\n",
    "min_budget = int(input(\"Enter the min budget: \"))\n",
    "max_budget = int(input(\"Enter the max budget: \"))\n",
    "\n",
    "life = int(input(\"Enter the minimum life span required for the car: \"))\n",
    "fuel_type = input(\"Enter the fuel type, Diesel, Petrol or CNG: \")\n",
    "# owner_list = ['First Owner','Second Owner','Third Owner']\n",
    "# fuel_list = ['Diesel', 'Petrol', 'CNG']\n"
   ]
  },
  {
   "cell_type": "markdown",
   "id": "c2003556-6421-4d67-9710-5e4c1ba1375a",
   "metadata": {},
   "source": [
    "### Filtering budget"
   ]
  },
  {
   "cell_type": "code",
   "execution_count": 20,
   "id": "75323344-fd6c-4549-b0b3-b13f656c2de5",
   "metadata": {},
   "outputs": [],
   "source": [
    "#budget section\n",
    "\n",
    "df1 = df[(df['selling_price'] > min_budget) & (df['selling_price'] < max_budget)].copy()\n",
    "\n",
    "# df1 = df.query('min_budget < selling_price < max_budget').copy()\n",
    "\n"
   ]
  },
  {
   "cell_type": "markdown",
   "id": "5e914858-caa9-4e02-840d-ce50c707b5e1",
   "metadata": {},
   "source": [
    "### Evaluate Age of cars and filtering by life span"
   ]
  },
  {
   "cell_type": "code",
   "execution_count": 21,
   "id": "222b56d4-edee-4d7a-9475-6d7ca4569d3a",
   "metadata": {},
   "outputs": [],
   "source": [
    "##### age of car section\n",
    "\n",
    "# life_span = current_year - df['year']\n",
    "# if life_span > life:\n",
    "#     df = df[df['year'] - life]\n",
    "\n",
    "life_span = []\n",
    "for i in range(df1.shape[0]):\n",
    "    n = current_year - df1.iloc[i, 1]\n",
    "    life_span.append(int(n))\n",
    "\n",
    "df1['Age'] = life_span \n",
    "df1 = df1[df1['Age'] <= life]\n",
    "\n",
    "\n",
    "# names = df['name']\n",
    "# names = list(names)\n",
    "# car_pair = zip(names, lif)\n",
    "# print(car_pair)\n",
    "# file1 = pd.DataFrame(car_pair,columns=['Name', 'Lifespan'])\n",
    "# print(file1)\n",
    "# file1.to_csv('carpair.csv', index=False)"
   ]
  },
  {
   "cell_type": "markdown",
   "id": "70a8c708-d44f-4bc6-b94a-4b470a1882bf",
   "metadata": {},
   "source": [
    "### Filtering fuel type"
   ]
  },
  {
   "cell_type": "code",
   "execution_count": null,
   "id": "37f511b0-5f69-409b-a3d4-4bfcd0569bf5",
   "metadata": {},
   "outputs": [],
   "source": [
    "##### fuel section\n",
    "\n",
    "# fuels = list(df['fuel'])d\n",
    "\n",
    "fuel_type = fuel_type.capitalize()\n",
    "# if fuel_type.capitalize() in fuels:\n",
    "df1 = df1[df1['fuel'] == fuel_type]\n",
    "\n"
   ]
  },
  {
   "cell_type": "markdown",
   "id": "f8fd44f4-0b84-4088-b733-d6af84a3c4db",
   "metadata": {},
   "source": [
    "### Displaying the available cars"
   ]
  },
  {
   "cell_type": "code",
   "execution_count": 23,
   "id": "9647a0a8-57db-4ef5-a572-d1a950ad2245",
   "metadata": {},
   "outputs": [
    {
     "name": "stdout",
     "output_type": "stream",
     "text": [
      "There are 45 cars available:\n",
      "37                Hyundai Verna VTVT 1.6 SX Option\n",
      "160                            Toyota Glanza V CVT\n",
      "196             Hyundai Elite i20 Sportz Plus BSIV\n",
      "345                 Mahindra XUV300 W8 Option BSIV\n",
      "386                  Honda Amaze V CVT Petrol BSIV\n",
      "583                     Maruti Swift Dzire VXI 1.2\n",
      "790            Ford Freestyle Titanium Petrol BSIV\n",
      "900           Hyundai Elite i20 Petrol Asta Option\n",
      "922                               Maruti XL6 Alpha\n",
      "1017              Hyundai Verna VTVT 1.6 SX Option\n",
      "1240        Hyundai Elite i20 Sportz Plus CVT BSIV\n",
      "1570                          Nissan Kicks XV BSIV\n",
      "1736                   Hyundai i20 Active S Petrol\n",
      "1768                     Ford Aspire Titanium BSIV\n",
      "2231             Skoda Rapid 1.6 MPI Ambition BSIV\n",
      "2298                             Honda Jazz VX CVT\n",
      "2371                          Nissan Kicks XL BSIV\n",
      "2443              Tata Nexon 1.2 Revotron XZA Plus\n",
      "2717                           Maruti Baleno Alpha\n",
      "2949                             Honda Jazz VX CVT\n",
      "2964          Skoda Rapid 1.6 MPI AT Ambition BSIV\n",
      "3112                   Hyundai Creta 1.6 SX Option\n",
      "3279           Maruti Gypsy King Soft Top MPI BSIV\n",
      "3688                              Maruti XL6 Alpha\n",
      "4012                Mahindra XUV300 W8 Option BSIV\n",
      "4147                           Toyota Glanza G CVT\n",
      "4367               Maruti Swift Dzire AMT ZXI Plus\n",
      "4400         Volkswagen Polo 1.0 TSI Highline Plus\n",
      "4718                            Renault Triber RXZ\n",
      "4755                   Hyundai i20 Asta Option 1.2\n",
      "4767              Maruti Ciaz Delta Automatic BSIV\n",
      "4922            Hyundai Elite i20 Asta Option BSIV\n",
      "5063                            Mahindra XUV300 W8\n",
      "5260          Hyundai Venue SX Plus Turbo DCT BSIV\n",
      "5344    Maruti Vitara Brezza ZXI Plus AT Dual Tone\n",
      "5374                       Maruti Baleno Alpha 1.2\n",
      "5376                           Maruti Baleno Alpha\n",
      "6261                          Hyundai i20 1.2 Asta\n",
      "6480                     Hyundai Verna VTVT 1.6 SX\n",
      "6512        Ford EcoSport 1.5 Petrol Titanium BSIV\n",
      "6683               Tata Nexon 1.2 Revotron XZ Plus\n",
      "7240                   Maruti Baleno RS 1.0 Petrol\n",
      "7332                 Hyundai Grand i10 Nios Sportz\n",
      "7720                Mahindra XUV300 W8 Option BSIV\n",
      "7751     Hyundai Venue SX Plus Dual Tone Turbo DCT\n",
      "Name: name, dtype: object\n"
     ]
    }
   ],
   "source": [
    "available = df1.shape[0]\n",
    "if available == 0:\n",
    "    print(\"There are no cars available.\")\n",
    "elif available == 1:\n",
    "    print(f\"There is only 1 car available which is -> {df1.iloc[0,0]}\")\n",
    "else: \n",
    "    print(f\"There are {available} cars available:\\n{df1.iloc[:,0]}\")\n",
    "\n",
    " "
   ]
  },
  {
   "cell_type": "markdown",
   "id": "1131637d-543f-4df3-9009-3a1374b20183",
   "metadata": {},
   "source": [
    "### calculating price to mileage ratio"
   ]
  },
  {
   "cell_type": "code",
   "execution_count": 25,
   "id": "14b77aad-43c8-4883-8e8f-02e3846c69f4",
   "metadata": {},
   "outputs": [],
   "source": [
    "df2 = df1.sort_values('engine', ascending=False).head(10).copy()"
   ]
  },
  {
   "cell_type": "code",
   "execution_count": null,
   "id": "0dc5fe2c-2834-4000-a470-545d9ff67758",
   "metadata": {},
   "outputs": [],
   "source": [
    "print(df2.shape)\n",
    "df2"
   ]
  },
  {
   "cell_type": "markdown",
   "id": "b759b711-ec1c-4978-a432-5321bd29c584",
   "metadata": {},
   "source": [
    "### calculating price to mileage ratio"
   ]
  },
  {
   "cell_type": "code",
   "execution_count": 34,
   "id": "f2356673-6d6f-45ef-b9a3-c73c6ce402a5",
   "metadata": {},
   "outputs": [
    {
     "data": {
      "text/html": [
       "<div>\n",
       "<style scoped>\n",
       "    .dataframe tbody tr th:only-of-type {\n",
       "        vertical-align: middle;\n",
       "    }\n",
       "\n",
       "    .dataframe tbody tr th {\n",
       "        vertical-align: top;\n",
       "    }\n",
       "\n",
       "    .dataframe thead th {\n",
       "        text-align: right;\n",
       "    }\n",
       "</style>\n",
       "<table border=\"1\" class=\"dataframe\">\n",
       "  <thead>\n",
       "    <tr style=\"text-align: right;\">\n",
       "      <th></th>\n",
       "      <th>index</th>\n",
       "      <th>name</th>\n",
       "      <th>year</th>\n",
       "      <th>selling_price</th>\n",
       "      <th>km_driven</th>\n",
       "      <th>fuel</th>\n",
       "      <th>seller_type</th>\n",
       "      <th>transmission</th>\n",
       "      <th>owner</th>\n",
       "      <th>mileage(km/ltr/kg)</th>\n",
       "      <th>engine</th>\n",
       "      <th>max_power</th>\n",
       "      <th>seats</th>\n",
       "      <th>Age</th>\n",
       "      <th>price to mileage ratio</th>\n",
       "    </tr>\n",
       "  </thead>\n",
       "  <tbody>\n",
       "    <tr>\n",
       "      <th>0</th>\n",
       "      <td>2231</td>\n",
       "      <td>Skoda Rapid 1.6 MPI Ambition BSIV</td>\n",
       "      <td>2019</td>\n",
       "      <td>725000</td>\n",
       "      <td>25000</td>\n",
       "      <td>Petrol</td>\n",
       "      <td>Individual</td>\n",
       "      <td>Manual</td>\n",
       "      <td>First Owner</td>\n",
       "      <td>15.41</td>\n",
       "      <td>1598.0</td>\n",
       "      <td>103.2</td>\n",
       "      <td>5.0</td>\n",
       "      <td>6</td>\n",
       "      <td>47047.37</td>\n",
       "    </tr>\n",
       "    <tr>\n",
       "      <th>1</th>\n",
       "      <td>4767</td>\n",
       "      <td>Maruti Ciaz Delta Automatic BSIV</td>\n",
       "      <td>2019</td>\n",
       "      <td>1025000</td>\n",
       "      <td>15000</td>\n",
       "      <td>Petrol</td>\n",
       "      <td>Dealer</td>\n",
       "      <td>Automatic</td>\n",
       "      <td>First Owner</td>\n",
       "      <td>20.28</td>\n",
       "      <td>1462.0</td>\n",
       "      <td>103.25</td>\n",
       "      <td>5.0</td>\n",
       "      <td>6</td>\n",
       "      <td>50542.41</td>\n",
       "    </tr>\n",
       "    <tr>\n",
       "      <th>2</th>\n",
       "      <td>6512</td>\n",
       "      <td>Ford EcoSport 1.5 Petrol Titanium BSIV</td>\n",
       "      <td>2019</td>\n",
       "      <td>885000</td>\n",
       "      <td>10000</td>\n",
       "      <td>Petrol</td>\n",
       "      <td>Individual</td>\n",
       "      <td>Manual</td>\n",
       "      <td>Second Owner</td>\n",
       "      <td>17.00</td>\n",
       "      <td>1497.0</td>\n",
       "      <td>121.31</td>\n",
       "      <td>5.0</td>\n",
       "      <td>6</td>\n",
       "      <td>52058.82</td>\n",
       "    </tr>\n",
       "    <tr>\n",
       "      <th>3</th>\n",
       "      <td>2964</td>\n",
       "      <td>Skoda Rapid 1.6 MPI AT Ambition BSIV</td>\n",
       "      <td>2019</td>\n",
       "      <td>835000</td>\n",
       "      <td>10000</td>\n",
       "      <td>Petrol</td>\n",
       "      <td>Individual</td>\n",
       "      <td>Automatic</td>\n",
       "      <td>First Owner</td>\n",
       "      <td>14.84</td>\n",
       "      <td>1598.0</td>\n",
       "      <td>103.2</td>\n",
       "      <td>5.0</td>\n",
       "      <td>6</td>\n",
       "      <td>56266.85</td>\n",
       "    </tr>\n",
       "    <tr>\n",
       "      <th>4</th>\n",
       "      <td>6480</td>\n",
       "      <td>Hyundai Verna VTVT 1.6 SX</td>\n",
       "      <td>2019</td>\n",
       "      <td>990000</td>\n",
       "      <td>15000</td>\n",
       "      <td>Petrol</td>\n",
       "      <td>Individual</td>\n",
       "      <td>Manual</td>\n",
       "      <td>First Owner</td>\n",
       "      <td>17.00</td>\n",
       "      <td>1591.0</td>\n",
       "      <td>121.3</td>\n",
       "      <td>5.0</td>\n",
       "      <td>6</td>\n",
       "      <td>58235.29</td>\n",
       "    </tr>\n",
       "  </tbody>\n",
       "</table>\n",
       "</div>"
      ],
      "text/plain": [
       "   index                                    name  year  selling_price  \\\n",
       "0   2231       Skoda Rapid 1.6 MPI Ambition BSIV  2019         725000   \n",
       "1   4767        Maruti Ciaz Delta Automatic BSIV  2019        1025000   \n",
       "2   6512  Ford EcoSport 1.5 Petrol Titanium BSIV  2019         885000   \n",
       "3   2964    Skoda Rapid 1.6 MPI AT Ambition BSIV  2019         835000   \n",
       "4   6480               Hyundai Verna VTVT 1.6 SX  2019         990000   \n",
       "\n",
       "   km_driven    fuel seller_type transmission         owner  \\\n",
       "0      25000  Petrol  Individual       Manual   First Owner   \n",
       "1      15000  Petrol      Dealer    Automatic   First Owner   \n",
       "2      10000  Petrol  Individual       Manual  Second Owner   \n",
       "3      10000  Petrol  Individual    Automatic   First Owner   \n",
       "4      15000  Petrol  Individual       Manual   First Owner   \n",
       "\n",
       "   mileage(km/ltr/kg)  engine max_power  seats  Age  price to mileage ratio  \n",
       "0               15.41  1598.0     103.2    5.0    6                47047.37  \n",
       "1               20.28  1462.0    103.25    5.0    6                50542.41  \n",
       "2               17.00  1497.0    121.31    5.0    6                52058.82  \n",
       "3               14.84  1598.0     103.2    5.0    6                56266.85  \n",
       "4               17.00  1591.0     121.3    5.0    6                58235.29  "
      ]
     },
     "execution_count": 34,
     "metadata": {},
     "output_type": "execute_result"
    }
   ],
   "source": [
    "# price to mileage ratio\n",
    "# df2 = df1.copy()\n",
    "ratio = df2['selling_price'] / df2['mileage(km/ltr/kg)']\n",
    "\n",
    "df2['price to mileage ratio'] = ratio.round(2)\n",
    "\n",
    "\n",
    "\n",
    "df2 = df2.nsmallest(5, 'price to mileage ratio')\n",
    "df2.reset_index()\n",
    "# print(\"The leading cars having the minimum Price:Mileage ratio available within your preferred options are: \")"
   ]
  },
  {
   "cell_type": "markdown",
   "id": "178c767a-b3f9-4afb-b2d8-d2865e67fb1d",
   "metadata": {},
   "source": [
    "### plotting selling price vs p-m ratio of the suggested top cars"
   ]
  },
  {
   "cell_type": "code",
   "execution_count": 35,
   "id": "f2d516f6-a616-4842-af17-7616f018df75",
   "metadata": {},
   "outputs": [
    {
     "data": {
      "image/png": "[encoded data removed]",
      "text/plain": [
       "<Figure size 640x480 with 1 Axes>"
      ]
     },
     "metadata": {},
     "output_type": "display_data"
    }
   ],
   "source": [
    "x = df1['selling_price']\n",
    "y = df1['price to mileage ratio']\n",
    "\n",
    "\n",
    "sns.barplot(x='selling_price', y='price to mileage ratio', data=df2,hue='name', palette='coolwarm')\n",
    "plt.title(\"Your top 5 cars\")\n",
    "plt.legend(fontsize=8)\n",
    "plt.show()\n"
   ]
  },
  {
   "cell_type": "markdown",
   "id": "4de3dc0f-0e6d-4192-9cf2-7eef71777f90",
   "metadata": {},
   "source": [
    "#### plt.scatter(x,y)\n",
    "plt.xlabel('Selling Price')\n",
    "plt.ylabel('Price to Mileage Ratio')\n",
    "plt.show()"
   ]
  },
  {
   "cell_type": "code",
   "execution_count": 29,
   "id": "0aed5e24-bbbf-4112-8685-b154782e2cbc",
   "metadata": {},
   "outputs": [],
   "source": [
    "# plt.scatter(x,z)\n",
    "# plt.show()"
   ]
  },
  {
   "cell_type": "code",
   "execution_count": null,
   "id": "ea9ef578-da64-40d2-a326-473a2084a6c7",
   "metadata": {},
   "outputs": [],
   "source": []
  }
 ],
 "metadata": {
  "kernelspec": {
   "display_name": "Python 3 (ipykernel)",
   "language": "python",
   "name": "python3"
  },
  "language_info": {
   "codemirror_mode": {
    "name": "ipython",
    "version": 3
   },
   "file_extension": ".py",
   "mimetype": "text/x-python",
   "name": "python",
   "nbconvert_exporter": "python",
   "pygments_lexer": "ipython3",
   "version": "3.11.4"
  }
 },
 "nbformat": 4,
 "nbformat_minor": 5
}
