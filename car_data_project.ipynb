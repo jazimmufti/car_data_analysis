{
 "cells": [
  {
   "cell_type": "markdown",
   "id": "bfbcabdc-7938-4675-9d57-68fb10142f62",
   "metadata": {},
   "source": [
    "#### *This analysis will focus on understanding factors affecting car prices, visualizing relationships, and recommending the top 5 cars among the preferred options given by the user*"
   ]
  },
  {
   "cell_type": "code",
   "execution_count": 1,
   "id": "4de5ffe0-dcd2-45c1-ad54-2fbd0b22a833",
   "metadata": {},
   "outputs": [],
   "source": [
    "import pandas as pd\n",
    "import numpy as np\n",
    "import matplotlib.pyplot as plt\n",
    "import seaborn as sns"
   ]
  },
  {
   "cell_type": "code",
   "execution_count": 2,
   "id": "1a7180a5-2065-4be8-a0d2-74c16af3ad94",
   "metadata": {},
   "outputs": [],
   "source": [
    "from datetime import datetime\n",
    "current_datetime = datetime.now()\n",
    "current_year = current_datetime.year"
   ]
  },
  {
   "cell_type": "code",
   "execution_count": 3,
   "id": "1819d47e-ccbb-440e-a4b4-184bcc7ff6f4",
   "metadata": {},
   "outputs": [],
   "source": [
    "df = pd.read_csv('car_prediction_dataset.csv')"
   ]
  },
  {
   "cell_type": "code",
   "execution_count": 4,
   "id": "b71da77a-bd3c-4bc1-a239-c057d78a9080",
   "metadata": {},
   "outputs": [
    {
     "data": {
      "text/html": [
       "<div>\n",
       "<style scoped>\n",
       "    .dataframe tbody tr th:only-of-type {\n",
       "        vertical-align: middle;\n",
       "    }\n",
       "\n",
       "    .dataframe tbody tr th {\n",
       "        vertical-align: top;\n",
       "    }\n",
       "\n",
       "    .dataframe thead th {\n",
       "        text-align: right;\n",
       "    }\n",
       "</style>\n",
       "<table border=\"1\" class=\"dataframe\">\n",
       "  <thead>\n",
       "    <tr style=\"text-align: right;\">\n",
       "      <th></th>\n",
       "      <th>name</th>\n",
       "      <th>year</th>\n",
       "      <th>selling_price</th>\n",
       "      <th>km_driven</th>\n",
       "      <th>fuel</th>\n",
       "      <th>seller_type</th>\n",
       "      <th>transmission</th>\n",
       "      <th>owner</th>\n",
       "      <th>mileage(km/ltr/kg)</th>\n",
       "      <th>engine</th>\n",
       "      <th>max_power</th>\n",
       "      <th>seats</th>\n",
       "    </tr>\n",
       "  </thead>\n",
       "  <tbody>\n",
       "    <tr>\n",
       "      <th>0</th>\n",
       "      <td>Maruti Swift Dzire VDI</td>\n",
       "      <td>2014</td>\n",
       "      <td>450000</td>\n",
       "      <td>145500</td>\n",
       "      <td>Diesel</td>\n",
       "      <td>Individual</td>\n",
       "      <td>Manual</td>\n",
       "      <td>First Owner</td>\n",
       "      <td>23.40</td>\n",
       "      <td>1248.0</td>\n",
       "      <td>74</td>\n",
       "      <td>5.0</td>\n",
       "    </tr>\n",
       "    <tr>\n",
       "      <th>1</th>\n",
       "      <td>Skoda Rapid 1.5 TDI Ambition</td>\n",
       "      <td>2014</td>\n",
       "      <td>370000</td>\n",
       "      <td>120000</td>\n",
       "      <td>Diesel</td>\n",
       "      <td>Individual</td>\n",
       "      <td>Manual</td>\n",
       "      <td>Second Owner</td>\n",
       "      <td>21.14</td>\n",
       "      <td>1498.0</td>\n",
       "      <td>103.52</td>\n",
       "      <td>5.0</td>\n",
       "    </tr>\n",
       "    <tr>\n",
       "      <th>2</th>\n",
       "      <td>Honda City 2017-2020 EXi</td>\n",
       "      <td>2006</td>\n",
       "      <td>158000</td>\n",
       "      <td>140000</td>\n",
       "      <td>Petrol</td>\n",
       "      <td>Individual</td>\n",
       "      <td>Manual</td>\n",
       "      <td>Third Owner</td>\n",
       "      <td>17.70</td>\n",
       "      <td>1497.0</td>\n",
       "      <td>78</td>\n",
       "      <td>5.0</td>\n",
       "    </tr>\n",
       "    <tr>\n",
       "      <th>3</th>\n",
       "      <td>Hyundai i20 Sportz Diesel</td>\n",
       "      <td>2010</td>\n",
       "      <td>225000</td>\n",
       "      <td>127000</td>\n",
       "      <td>Diesel</td>\n",
       "      <td>Individual</td>\n",
       "      <td>Manual</td>\n",
       "      <td>First Owner</td>\n",
       "      <td>23.00</td>\n",
       "      <td>1396.0</td>\n",
       "      <td>90</td>\n",
       "      <td>5.0</td>\n",
       "    </tr>\n",
       "    <tr>\n",
       "      <th>4</th>\n",
       "      <td>Maruti Swift VXI BSIII</td>\n",
       "      <td>2007</td>\n",
       "      <td>130000</td>\n",
       "      <td>120000</td>\n",
       "      <td>Petrol</td>\n",
       "      <td>Individual</td>\n",
       "      <td>Manual</td>\n",
       "      <td>First Owner</td>\n",
       "      <td>16.10</td>\n",
       "      <td>1298.0</td>\n",
       "      <td>88.2</td>\n",
       "      <td>5.0</td>\n",
       "    </tr>\n",
       "  </tbody>\n",
       "</table>\n",
       "</div>"
      ],
      "text/plain": [
       "                           name  year  selling_price  km_driven    fuel  \\\n",
       "0        Maruti Swift Dzire VDI  2014         450000     145500  Diesel   \n",
       "1  Skoda Rapid 1.5 TDI Ambition  2014         370000     120000  Diesel   \n",
       "2      Honda City 2017-2020 EXi  2006         158000     140000  Petrol   \n",
       "3     Hyundai i20 Sportz Diesel  2010         225000     127000  Diesel   \n",
       "4        Maruti Swift VXI BSIII  2007         130000     120000  Petrol   \n",
       "\n",
       "  seller_type transmission         owner  mileage(km/ltr/kg)  engine  \\\n",
       "0  Individual       Manual   First Owner               23.40  1248.0   \n",
       "1  Individual       Manual  Second Owner               21.14  1498.0   \n",
       "2  Individual       Manual   Third Owner               17.70  1497.0   \n",
       "3  Individual       Manual   First Owner               23.00  1396.0   \n",
       "4  Individual       Manual   First Owner               16.10  1298.0   \n",
       "\n",
       "  max_power  seats  \n",
       "0        74    5.0  \n",
       "1    103.52    5.0  \n",
       "2        78    5.0  \n",
       "3        90    5.0  \n",
       "4      88.2    5.0  "
      ]
     },
     "execution_count": 4,
     "metadata": {},
     "output_type": "execute_result"
    }
   ],
   "source": [
    "df.head()"
   ]
  },
  {
   "cell_type": "code",
   "execution_count": 5,
   "id": "b6adc969-5ac7-4c1c-85b5-0548cbac1c3e",
   "metadata": {},
   "outputs": [
    {
     "name": "stdout",
     "output_type": "stream",
     "text": [
      "Total cars available in the original dataset are:  8128\n"
     ]
    }
   ],
   "source": [
    "print(\"Total cars available in the original dataset are: \", df.shape[0])"
   ]
  },
  {
   "cell_type": "code",
   "execution_count": 6,
   "id": "53fbcaba-f6e6-4a42-867a-1769d08cbb84",
   "metadata": {},
   "outputs": [
    {
     "data": {
      "text/plain": [
       "Index(['name', 'year', 'selling_price', 'km_driven', 'fuel', 'seller_type',\n",
       "       'transmission', 'owner', 'mileage(km/ltr/kg)', 'engine', 'max_power',\n",
       "       'seats'],\n",
       "      dtype='object')"
      ]
     },
     "execution_count": 6,
     "metadata": {},
     "output_type": "execute_result"
    }
   ],
   "source": [
    "df.columns"
   ]
  },
  {
   "cell_type": "code",
   "execution_count": 7,
   "id": "e44f4383-990e-44ab-9e24-3a39b52bb2f1",
   "metadata": {},
   "outputs": [
    {
     "data": {
      "text/plain": [
       "name                    0\n",
       "year                    0\n",
       "selling_price           0\n",
       "km_driven               0\n",
       "fuel                    0\n",
       "seller_type             0\n",
       "transmission            0\n",
       "owner                   0\n",
       "mileage(km/ltr/kg)    221\n",
       "engine                221\n",
       "max_power             215\n",
       "seats                 221\n",
       "dtype: int64"
      ]
     },
     "execution_count": 7,
     "metadata": {},
     "output_type": "execute_result"
    }
   ],
   "source": [
    "# df.dropna(inplace=True)\n",
    "df.isnull().sum()"
   ]
  },
  {
   "cell_type": "code",
   "execution_count": 8,
   "id": "b59aaac6-489a-4e2a-88d2-124f30c73075",
   "metadata": {},
   "outputs": [
    {
     "name": "stdout",
     "output_type": "stream",
     "text": [
      "There are 1202 duplicates in your data.\n"
     ]
    }
   ],
   "source": [
    "dups = int(df.duplicated().sum())\n",
    "print(f\"There are {dups} duplicates in your data.\")"
   ]
  },
  {
   "cell_type": "code",
   "execution_count": 9,
   "id": "900c4b95-f7e5-47d3-81d8-98b6e9afa589",
   "metadata": {},
   "outputs": [
    {
     "name": "stdout",
     "output_type": "stream",
     "text": [
      "The top 3 cars with the highest availability are:\n",
      " name\n",
      "Maruti Swift Dzire VDI    129\n",
      "Maruti Alto 800 LXI        82\n",
      "Maruti Alto LXi            71\n",
      "Name: count, dtype: int64\n"
     ]
    }
   ],
   "source": [
    "most_cars = df['name'].value_counts().nlargest(3)\n",
    "print(\"The top 3 cars with the highest availability are:\\n\", most_cars)"
   ]
  },
  {
   "cell_type": "markdown",
   "id": "edc2cd47-8709-4fc1-8300-ba1b09c8dc46",
   "metadata": {},
   "source": [
    "### *HANDLING MISSING VALUES*"
   ]
  },
  {
   "cell_type": "code",
   "execution_count": 10,
   "id": "2100ad7f-d801-4852-b032-87d0312560c7",
   "metadata": {},
   "outputs": [],
   "source": [
    "# print(df['max_power'].unique()) \n",
    "df['max_power'] = pd.to_numeric(df['max_power'], errors='coerce')"
   ]
  },
  {
   "cell_type": "code",
   "execution_count": 11,
   "id": "a2ce096d-40eb-4636-8c0a-0860ecc81c39",
   "metadata": {},
   "outputs": [],
   "source": [
    "df['seats'] = df['seats'].fillna(df['seats'].mode()[0])\n",
    "df['mileage(km/ltr/kg)'] = df['mileage(km/ltr/kg)'].fillna(df['mileage(km/ltr/kg)'].median())\n",
    "df['engine'] = df['engine'].fillna(df['engine'].mean()).round(2)\n",
    "df['max_power'] = df['max_power'].fillna(df['max_power'].mean()).round(2)"
   ]
  },
  {
   "cell_type": "code",
   "execution_count": 12,
   "id": "6ef24203-6e1c-4309-91d4-803fa40997eb",
   "metadata": {},
   "outputs": [
    {
     "name": "stdout",
     "output_type": "stream",
     "text": [
      "The oldest car is: \n"
     ]
    },
    {
     "data": {
      "text/html": [
       "<div>\n",
       "<style scoped>\n",
       "    .dataframe tbody tr th:only-of-type {\n",
       "        vertical-align: middle;\n",
       "    }\n",
       "\n",
       "    .dataframe tbody tr th {\n",
       "        vertical-align: top;\n",
       "    }\n",
       "\n",
       "    .dataframe thead th {\n",
       "        text-align: right;\n",
       "    }\n",
       "</style>\n",
       "<table border=\"1\" class=\"dataframe\">\n",
       "  <thead>\n",
       "    <tr style=\"text-align: right;\">\n",
       "      <th></th>\n",
       "      <th>name</th>\n",
       "      <th>year</th>\n",
       "      <th>selling_price</th>\n",
       "      <th>km_driven</th>\n",
       "      <th>fuel</th>\n",
       "      <th>seller_type</th>\n",
       "      <th>transmission</th>\n",
       "      <th>owner</th>\n",
       "      <th>mileage(km/ltr/kg)</th>\n",
       "      <th>engine</th>\n",
       "      <th>max_power</th>\n",
       "      <th>seats</th>\n",
       "    </tr>\n",
       "  </thead>\n",
       "  <tbody>\n",
       "    <tr>\n",
       "      <th>316</th>\n",
       "      <td>Mahindra Willys CJ 3B 4X4</td>\n",
       "      <td>1983</td>\n",
       "      <td>300000</td>\n",
       "      <td>10000</td>\n",
       "      <td>Diesel</td>\n",
       "      <td>Individual</td>\n",
       "      <td>Manual</td>\n",
       "      <td>Third Owner</td>\n",
       "      <td>19.3</td>\n",
       "      <td>1458.63</td>\n",
       "      <td>91.52</td>\n",
       "      <td>5.0</td>\n",
       "    </tr>\n",
       "  </tbody>\n",
       "</table>\n",
       "</div>"
      ],
      "text/plain": [
       "                          name  year  selling_price  km_driven    fuel  \\\n",
       "316  Mahindra Willys CJ 3B 4X4  1983         300000      10000  Diesel   \n",
       "\n",
       "    seller_type transmission        owner  mileage(km/ltr/kg)   engine  \\\n",
       "316  Individual       Manual  Third Owner                19.3  1458.63   \n",
       "\n",
       "     max_power  seats  \n",
       "316      91.52    5.0  "
      ]
     },
     "execution_count": 12,
     "metadata": {},
     "output_type": "execute_result"
    }
   ],
   "source": [
    "max_age = df['year'].min()\n",
    "print(\"The oldest car is: \")\n",
    "df[df['year'] == max_age]"
   ]
  },
  {
   "cell_type": "code",
   "execution_count": 13,
   "id": "0ba2ec15-0354-4bc8-b5cb-e424972f7f5e",
   "metadata": {},
   "outputs": [
    {
     "name": "stdout",
     "output_type": "stream",
     "text": [
      "The most expensive car is: \n"
     ]
    },
    {
     "data": {
      "text/html": [
       "<div>\n",
       "<style scoped>\n",
       "    .dataframe tbody tr th:only-of-type {\n",
       "        vertical-align: middle;\n",
       "    }\n",
       "\n",
       "    .dataframe tbody tr th {\n",
       "        vertical-align: top;\n",
       "    }\n",
       "\n",
       "    .dataframe thead th {\n",
       "        text-align: right;\n",
       "    }\n",
       "</style>\n",
       "<table border=\"1\" class=\"dataframe\">\n",
       "  <thead>\n",
       "    <tr style=\"text-align: right;\">\n",
       "      <th></th>\n",
       "      <th>name</th>\n",
       "      <th>year</th>\n",
       "      <th>selling_price</th>\n",
       "      <th>km_driven</th>\n",
       "      <th>fuel</th>\n",
       "      <th>seller_type</th>\n",
       "      <th>transmission</th>\n",
       "      <th>owner</th>\n",
       "      <th>mileage(km/ltr/kg)</th>\n",
       "      <th>engine</th>\n",
       "      <th>max_power</th>\n",
       "      <th>seats</th>\n",
       "    </tr>\n",
       "  </thead>\n",
       "  <tbody>\n",
       "    <tr>\n",
       "      <th>170</th>\n",
       "      <td>Volvo XC90 T8 Excellence BSIV</td>\n",
       "      <td>2017</td>\n",
       "      <td>10000000</td>\n",
       "      <td>30000</td>\n",
       "      <td>Petrol</td>\n",
       "      <td>Individual</td>\n",
       "      <td>Automatic</td>\n",
       "      <td>First Owner</td>\n",
       "      <td>42.0</td>\n",
       "      <td>1969.0</td>\n",
       "      <td>400.0</td>\n",
       "      <td>4.0</td>\n",
       "    </tr>\n",
       "  </tbody>\n",
       "</table>\n",
       "</div>"
      ],
      "text/plain": [
       "                              name  year  selling_price  km_driven    fuel  \\\n",
       "170  Volvo XC90 T8 Excellence BSIV  2017       10000000      30000  Petrol   \n",
       "\n",
       "    seller_type transmission        owner  mileage(km/ltr/kg)  engine  \\\n",
       "170  Individual    Automatic  First Owner                42.0  1969.0   \n",
       "\n",
       "     max_power  seats  \n",
       "170      400.0    4.0  "
      ]
     },
     "execution_count": 13,
     "metadata": {},
     "output_type": "execute_result"
    }
   ],
   "source": [
    "max_price = df['selling_price'].max()\n",
    "\n",
    "print(\"The most expensive car is: \")\n",
    "df[df['selling_price'] == max_price]"
   ]
  },
  {
   "cell_type": "markdown",
   "id": "ffaf87a6-486d-4416-ba99-0f59a2b984d1",
   "metadata": {},
   "source": [
    "### *plotting selling price vs year of all the cars*"
   ]
  },
  {
   "cell_type": "code",
   "execution_count": 14,
   "id": "9d716a41-c8dc-4c56-870a-9a1becc04429",
   "metadata": {},
   "outputs": [
    {
     "data": {
      "image/png": "[encoded data removed]",
      "text/plain": [
       "<Figure size 640x480 with 1 Axes>"
      ]
     },
     "metadata": {},
     "output_type": "display_data"
    }
   ],
   "source": [
    "x = df['selling_price']\n",
    "df['y'] = current_year - df['year']\n",
    "\n",
    "plt.scatter(x,df['y'], marker='x', c='r')\n",
    "plt.xlabel('Selling Price')\n",
    "plt.ylabel('Age of the car')\n",
    "# sns.scatterplot(x='selling_price',y='year', data=df, marker='x')\n",
    "plt.show()"
   ]
  },
  {
   "cell_type": "markdown",
   "id": "c06f66fe-f79c-4bf6-b02d-a251ac207fdb",
   "metadata": {},
   "source": [
    "###### df[df['y'] > 40]"
   ]
  },
  {
   "cell_type": "code",
   "execution_count": 15,
   "id": "98a0db2d-9bcd-47b8-b012-5d015a46839a",
   "metadata": {},
   "outputs": [],
   "source": [
    "df.drop('y', axis=1, inplace=True)"
   ]
  },
  {
   "cell_type": "markdown",
   "id": "d38321da-8d36-4f66-b4eb-4a9044ad9776",
   "metadata": {},
   "source": [
    "### *Conditions given by the user*"
   ]
  },
  {
   "cell_type": "code",
   "execution_count": 16,
   "id": "ac9e48f5-88f0-4aea-8d2a-51bf8afb21c0",
   "metadata": {},
   "outputs": [],
   "source": [
    "# I want to buy a car which follows certain conditions:\n",
    "# 1) The car is under the budget (<400000).\n",
    "# 2) The car should be limited to a maximum of two owners.\n",
    "# 3) Car has a minimum life of n years.\n"
   ]
  },
  {
   "cell_type": "code",
   "execution_count": 17,
   "id": "b8f5ff31-ad5d-4518-8a4c-71b43fbd1598",
   "metadata": {
    "scrolled": true
   },
   "outputs": [
    {
     "data": {
      "text/html": [
       "<div>\n",
       "<style scoped>\n",
       "    .dataframe tbody tr th:only-of-type {\n",
       "        vertical-align: middle;\n",
       "    }\n",
       "\n",
       "    .dataframe tbody tr th {\n",
       "        vertical-align: top;\n",
       "    }\n",
       "\n",
       "    .dataframe thead th {\n",
       "        text-align: right;\n",
       "    }\n",
       "</style>\n",
       "<table border=\"1\" class=\"dataframe\">\n",
       "  <thead>\n",
       "    <tr style=\"text-align: right;\">\n",
       "      <th></th>\n",
       "      <th>name</th>\n",
       "      <th>year</th>\n",
       "      <th>selling_price</th>\n",
       "      <th>km_driven</th>\n",
       "      <th>fuel</th>\n",
       "      <th>seller_type</th>\n",
       "      <th>transmission</th>\n",
       "      <th>owner</th>\n",
       "      <th>mileage(km/ltr/kg)</th>\n",
       "      <th>engine</th>\n",
       "      <th>max_power</th>\n",
       "      <th>seats</th>\n",
       "    </tr>\n",
       "  </thead>\n",
       "  <tbody>\n",
       "    <tr>\n",
       "      <th>0</th>\n",
       "      <td>Maruti Swift Dzire VDI</td>\n",
       "      <td>2014</td>\n",
       "      <td>450000</td>\n",
       "      <td>145500</td>\n",
       "      <td>Diesel</td>\n",
       "      <td>Individual</td>\n",
       "      <td>Manual</td>\n",
       "      <td>First Owner</td>\n",
       "      <td>23.40</td>\n",
       "      <td>1248.0</td>\n",
       "      <td>74.00</td>\n",
       "      <td>5.0</td>\n",
       "    </tr>\n",
       "    <tr>\n",
       "      <th>1</th>\n",
       "      <td>Skoda Rapid 1.5 TDI Ambition</td>\n",
       "      <td>2014</td>\n",
       "      <td>370000</td>\n",
       "      <td>120000</td>\n",
       "      <td>Diesel</td>\n",
       "      <td>Individual</td>\n",
       "      <td>Manual</td>\n",
       "      <td>Second Owner</td>\n",
       "      <td>21.14</td>\n",
       "      <td>1498.0</td>\n",
       "      <td>103.52</td>\n",
       "      <td>5.0</td>\n",
       "    </tr>\n",
       "    <tr>\n",
       "      <th>2</th>\n",
       "      <td>Honda City 2017-2020 EXi</td>\n",
       "      <td>2006</td>\n",
       "      <td>158000</td>\n",
       "      <td>140000</td>\n",
       "      <td>Petrol</td>\n",
       "      <td>Individual</td>\n",
       "      <td>Manual</td>\n",
       "      <td>Third Owner</td>\n",
       "      <td>17.70</td>\n",
       "      <td>1497.0</td>\n",
       "      <td>78.00</td>\n",
       "      <td>5.0</td>\n",
       "    </tr>\n",
       "    <tr>\n",
       "      <th>3</th>\n",
       "      <td>Hyundai i20 Sportz Diesel</td>\n",
       "      <td>2010</td>\n",
       "      <td>225000</td>\n",
       "      <td>127000</td>\n",
       "      <td>Diesel</td>\n",
       "      <td>Individual</td>\n",
       "      <td>Manual</td>\n",
       "      <td>First Owner</td>\n",
       "      <td>23.00</td>\n",
       "      <td>1396.0</td>\n",
       "      <td>90.00</td>\n",
       "      <td>5.0</td>\n",
       "    </tr>\n",
       "    <tr>\n",
       "      <th>4</th>\n",
       "      <td>Maruti Swift VXI BSIII</td>\n",
       "      <td>2007</td>\n",
       "      <td>130000</td>\n",
       "      <td>120000</td>\n",
       "      <td>Petrol</td>\n",
       "      <td>Individual</td>\n",
       "      <td>Manual</td>\n",
       "      <td>First Owner</td>\n",
       "      <td>16.10</td>\n",
       "      <td>1298.0</td>\n",
       "      <td>88.20</td>\n",
       "      <td>5.0</td>\n",
       "    </tr>\n",
       "    <tr>\n",
       "      <th>...</th>\n",
       "      <td>...</td>\n",
       "      <td>...</td>\n",
       "      <td>...</td>\n",
       "      <td>...</td>\n",
       "      <td>...</td>\n",
       "      <td>...</td>\n",
       "      <td>...</td>\n",
       "      <td>...</td>\n",
       "      <td>...</td>\n",
       "      <td>...</td>\n",
       "      <td>...</td>\n",
       "      <td>...</td>\n",
       "    </tr>\n",
       "    <tr>\n",
       "      <th>8123</th>\n",
       "      <td>Hyundai i20 Magna</td>\n",
       "      <td>2013</td>\n",
       "      <td>320000</td>\n",
       "      <td>110000</td>\n",
       "      <td>Petrol</td>\n",
       "      <td>Individual</td>\n",
       "      <td>Manual</td>\n",
       "      <td>First Owner</td>\n",
       "      <td>18.50</td>\n",
       "      <td>1197.0</td>\n",
       "      <td>82.85</td>\n",
       "      <td>5.0</td>\n",
       "    </tr>\n",
       "    <tr>\n",
       "      <th>8124</th>\n",
       "      <td>Hyundai Verna CRDi SX</td>\n",
       "      <td>2007</td>\n",
       "      <td>135000</td>\n",
       "      <td>119000</td>\n",
       "      <td>Diesel</td>\n",
       "      <td>Individual</td>\n",
       "      <td>Manual</td>\n",
       "      <td>Fourth &amp; Above Owner</td>\n",
       "      <td>16.80</td>\n",
       "      <td>1493.0</td>\n",
       "      <td>110.00</td>\n",
       "      <td>5.0</td>\n",
       "    </tr>\n",
       "    <tr>\n",
       "      <th>8125</th>\n",
       "      <td>Maruti Swift Dzire ZDi</td>\n",
       "      <td>2009</td>\n",
       "      <td>382000</td>\n",
       "      <td>120000</td>\n",
       "      <td>Diesel</td>\n",
       "      <td>Individual</td>\n",
       "      <td>Manual</td>\n",
       "      <td>First Owner</td>\n",
       "      <td>19.30</td>\n",
       "      <td>1248.0</td>\n",
       "      <td>73.90</td>\n",
       "      <td>5.0</td>\n",
       "    </tr>\n",
       "    <tr>\n",
       "      <th>8126</th>\n",
       "      <td>Tata Indigo CR4</td>\n",
       "      <td>2013</td>\n",
       "      <td>290000</td>\n",
       "      <td>25000</td>\n",
       "      <td>Diesel</td>\n",
       "      <td>Individual</td>\n",
       "      <td>Manual</td>\n",
       "      <td>First Owner</td>\n",
       "      <td>23.57</td>\n",
       "      <td>1396.0</td>\n",
       "      <td>70.00</td>\n",
       "      <td>5.0</td>\n",
       "    </tr>\n",
       "    <tr>\n",
       "      <th>8127</th>\n",
       "      <td>Tata Indigo CR4</td>\n",
       "      <td>2013</td>\n",
       "      <td>290000</td>\n",
       "      <td>25000</td>\n",
       "      <td>Diesel</td>\n",
       "      <td>Individual</td>\n",
       "      <td>Manual</td>\n",
       "      <td>First Owner</td>\n",
       "      <td>23.57</td>\n",
       "      <td>1396.0</td>\n",
       "      <td>70.00</td>\n",
       "      <td>5.0</td>\n",
       "    </tr>\n",
       "  </tbody>\n",
       "</table>\n",
       "<p>8128 rows × 12 columns</p>\n",
       "</div>"
      ],
      "text/plain": [
       "                              name  year  selling_price  km_driven    fuel  \\\n",
       "0           Maruti Swift Dzire VDI  2014         450000     145500  Diesel   \n",
       "1     Skoda Rapid 1.5 TDI Ambition  2014         370000     120000  Diesel   \n",
       "2         Honda City 2017-2020 EXi  2006         158000     140000  Petrol   \n",
       "3        Hyundai i20 Sportz Diesel  2010         225000     127000  Diesel   \n",
       "4           Maruti Swift VXI BSIII  2007         130000     120000  Petrol   \n",
       "...                            ...   ...            ...        ...     ...   \n",
       "8123             Hyundai i20 Magna  2013         320000     110000  Petrol   \n",
       "8124         Hyundai Verna CRDi SX  2007         135000     119000  Diesel   \n",
       "8125        Maruti Swift Dzire ZDi  2009         382000     120000  Diesel   \n",
       "8126               Tata Indigo CR4  2013         290000      25000  Diesel   \n",
       "8127               Tata Indigo CR4  2013         290000      25000  Diesel   \n",
       "\n",
       "     seller_type transmission                 owner  mileage(km/ltr/kg)  \\\n",
       "0     Individual       Manual           First Owner               23.40   \n",
       "1     Individual       Manual          Second Owner               21.14   \n",
       "2     Individual       Manual           Third Owner               17.70   \n",
       "3     Individual       Manual           First Owner               23.00   \n",
       "4     Individual       Manual           First Owner               16.10   \n",
       "...          ...          ...                   ...                 ...   \n",
       "8123  Individual       Manual           First Owner               18.50   \n",
       "8124  Individual       Manual  Fourth & Above Owner               16.80   \n",
       "8125  Individual       Manual           First Owner               19.30   \n",
       "8126  Individual       Manual           First Owner               23.57   \n",
       "8127  Individual       Manual           First Owner               23.57   \n",
       "\n",
       "      engine  max_power  seats  \n",
       "0     1248.0      74.00    5.0  \n",
       "1     1498.0     103.52    5.0  \n",
       "2     1497.0      78.00    5.0  \n",
       "3     1396.0      90.00    5.0  \n",
       "4     1298.0      88.20    5.0  \n",
       "...      ...        ...    ...  \n",
       "8123  1197.0      82.85    5.0  \n",
       "8124  1493.0     110.00    5.0  \n",
       "8125  1248.0      73.90    5.0  \n",
       "8126  1396.0      70.00    5.0  \n",
       "8127  1396.0      70.00    5.0  \n",
       "\n",
       "[8128 rows x 12 columns]"
      ]
     },
     "execution_count": 17,
     "metadata": {},
     "output_type": "execute_result"
    }
   ],
   "source": [
    "df"
   ]
  },
  {
   "cell_type": "code",
   "execution_count": 18,
   "id": "f26c005a-5bcd-459b-b1bd-af9fac9c71e7",
   "metadata": {},
   "outputs": [
    {
     "data": {
      "text/plain": [
       "8128"
      ]
     },
     "execution_count": 18,
     "metadata": {},
     "output_type": "execute_result"
    }
   ],
   "source": [
    "total_cars = df.shape[0]\n",
    "total_cars"
   ]
  },
  {
   "cell_type": "code",
   "execution_count": 19,
   "id": "66ba1b07-4734-4640-986f-fc2e405532c8",
   "metadata": {},
   "outputs": [],
   "source": [
    "# df[df['name'].str.split().str[0] == 'Hyundai i10']"
   ]
  },
  {
   "cell_type": "code",
   "execution_count": 20,
   "id": "015040ed-5f51-45df-a9f9-dabb5451ae3a",
   "metadata": {},
   "outputs": [
    {
     "name": "stdin",
     "output_type": "stream",
     "text": [
      "Do you want to add any car? Yes or No.\n",
      " NO\n"
     ]
    },
    {
     "data": {
      "text/plain": [
       "8128"
      ]
     },
     "execution_count": 20,
     "metadata": {},
     "output_type": "execute_result"
    }
   ],
   "source": [
    "## car_name, car_year, car_price, car_km, car_fuel, car_trans, car_owner, car_mileage, car_engine, car_power, car_seats\n",
    "\n",
    "add_car = input(\"Do you want to add any car? Yes or No.\\n\").capitalize()\n",
    "if add_car == 'Yes':\n",
    "    cars_no = int(input(\"How many cars you want to add?\\n\"))\n",
    "    for i in range(cars_no):\n",
    "        car_name = input(\"Enter the car's name: \").capitalize()\n",
    "        car_year = int(input(\"Enter the car's year of registration: \"))\n",
    "        car_price = int(input(\"Enter the car's price: \"))\n",
    "        car_km = int(input(\"Enter the distance covered by the car in km: \"))\n",
    "        car_fuel = input(\"Enter the fuel type: \").capitalize()\n",
    "        car_trans = input(\"Enter the transmission type: \").capitalize()\n",
    "        car_owner = input(\"Enter the subsequent owner: \").capitalize()\n",
    "        car_mileage = float(input(\"Enter the mileage of your car: \"))\n",
    "        car_engine = float(input(\"Enter the CC of the engine: \"))\n",
    "        car_power = float(input(\"Enter the max power of your car: \"))\n",
    "        car_seats = int(input(\"Enter the seating capacity of your car: \"))\n",
    "        \n",
    "        df.loc[total_cars] = [car_name, car_year, car_price, car_km, car_fuel, 'Individual', car_trans, car_owner, car_mileage, car_engine, car_power, car_seats]\n",
    "        total_cars += 1\n",
    "        df.tail()\n",
    "# df.loc[8128] = 'hello'\n",
    "total_cars\n"
   ]
  },
  {
   "cell_type": "code",
   "execution_count": 21,
   "id": "b1b2263d-fbfd-4cd1-ac00-23d7c0a5afeb",
   "metadata": {},
   "outputs": [
    {
     "data": {
      "text/html": [
       "<div>\n",
       "<style scoped>\n",
       "    .dataframe tbody tr th:only-of-type {\n",
       "        vertical-align: middle;\n",
       "    }\n",
       "\n",
       "    .dataframe tbody tr th {\n",
       "        vertical-align: top;\n",
       "    }\n",
       "\n",
       "    .dataframe thead th {\n",
       "        text-align: right;\n",
       "    }\n",
       "</style>\n",
       "<table border=\"1\" class=\"dataframe\">\n",
       "  <thead>\n",
       "    <tr style=\"text-align: right;\">\n",
       "      <th></th>\n",
       "      <th>name</th>\n",
       "      <th>year</th>\n",
       "      <th>selling_price</th>\n",
       "      <th>km_driven</th>\n",
       "      <th>fuel</th>\n",
       "      <th>seller_type</th>\n",
       "      <th>transmission</th>\n",
       "      <th>owner</th>\n",
       "      <th>mileage(km/ltr/kg)</th>\n",
       "      <th>engine</th>\n",
       "      <th>max_power</th>\n",
       "      <th>seats</th>\n",
       "    </tr>\n",
       "  </thead>\n",
       "  <tbody>\n",
       "    <tr>\n",
       "      <th>8123</th>\n",
       "      <td>Hyundai i20 Magna</td>\n",
       "      <td>2013</td>\n",
       "      <td>320000</td>\n",
       "      <td>110000</td>\n",
       "      <td>Petrol</td>\n",
       "      <td>Individual</td>\n",
       "      <td>Manual</td>\n",
       "      <td>First Owner</td>\n",
       "      <td>18.50</td>\n",
       "      <td>1197.0</td>\n",
       "      <td>82.85</td>\n",
       "      <td>5.0</td>\n",
       "    </tr>\n",
       "    <tr>\n",
       "      <th>8124</th>\n",
       "      <td>Hyundai Verna CRDi SX</td>\n",
       "      <td>2007</td>\n",
       "      <td>135000</td>\n",
       "      <td>119000</td>\n",
       "      <td>Diesel</td>\n",
       "      <td>Individual</td>\n",
       "      <td>Manual</td>\n",
       "      <td>Fourth &amp; Above Owner</td>\n",
       "      <td>16.80</td>\n",
       "      <td>1493.0</td>\n",
       "      <td>110.00</td>\n",
       "      <td>5.0</td>\n",
       "    </tr>\n",
       "    <tr>\n",
       "      <th>8125</th>\n",
       "      <td>Maruti Swift Dzire ZDi</td>\n",
       "      <td>2009</td>\n",
       "      <td>382000</td>\n",
       "      <td>120000</td>\n",
       "      <td>Diesel</td>\n",
       "      <td>Individual</td>\n",
       "      <td>Manual</td>\n",
       "      <td>First Owner</td>\n",
       "      <td>19.30</td>\n",
       "      <td>1248.0</td>\n",
       "      <td>73.90</td>\n",
       "      <td>5.0</td>\n",
       "    </tr>\n",
       "    <tr>\n",
       "      <th>8126</th>\n",
       "      <td>Tata Indigo CR4</td>\n",
       "      <td>2013</td>\n",
       "      <td>290000</td>\n",
       "      <td>25000</td>\n",
       "      <td>Diesel</td>\n",
       "      <td>Individual</td>\n",
       "      <td>Manual</td>\n",
       "      <td>First Owner</td>\n",
       "      <td>23.57</td>\n",
       "      <td>1396.0</td>\n",
       "      <td>70.00</td>\n",
       "      <td>5.0</td>\n",
       "    </tr>\n",
       "    <tr>\n",
       "      <th>8127</th>\n",
       "      <td>Tata Indigo CR4</td>\n",
       "      <td>2013</td>\n",
       "      <td>290000</td>\n",
       "      <td>25000</td>\n",
       "      <td>Diesel</td>\n",
       "      <td>Individual</td>\n",
       "      <td>Manual</td>\n",
       "      <td>First Owner</td>\n",
       "      <td>23.57</td>\n",
       "      <td>1396.0</td>\n",
       "      <td>70.00</td>\n",
       "      <td>5.0</td>\n",
       "    </tr>\n",
       "  </tbody>\n",
       "</table>\n",
       "</div>"
      ],
      "text/plain": [
       "                        name  year  selling_price  km_driven    fuel  \\\n",
       "8123       Hyundai i20 Magna  2013         320000     110000  Petrol   \n",
       "8124   Hyundai Verna CRDi SX  2007         135000     119000  Diesel   \n",
       "8125  Maruti Swift Dzire ZDi  2009         382000     120000  Diesel   \n",
       "8126         Tata Indigo CR4  2013         290000      25000  Diesel   \n",
       "8127         Tata Indigo CR4  2013         290000      25000  Diesel   \n",
       "\n",
       "     seller_type transmission                 owner  mileage(km/ltr/kg)  \\\n",
       "8123  Individual       Manual           First Owner               18.50   \n",
       "8124  Individual       Manual  Fourth & Above Owner               16.80   \n",
       "8125  Individual       Manual           First Owner               19.30   \n",
       "8126  Individual       Manual           First Owner               23.57   \n",
       "8127  Individual       Manual           First Owner               23.57   \n",
       "\n",
       "      engine  max_power  seats  \n",
       "8123  1197.0      82.85    5.0  \n",
       "8124  1493.0     110.00    5.0  \n",
       "8125  1248.0      73.90    5.0  \n",
       "8126  1396.0      70.00    5.0  \n",
       "8127  1396.0      70.00    5.0  "
      ]
     },
     "execution_count": 21,
     "metadata": {},
     "output_type": "execute_result"
    }
   ],
   "source": [
    "df.tail()"
   ]
  },
  {
   "cell_type": "markdown",
   "id": "74bd0b84-5df2-48a7-9ff6-bda38715d514",
   "metadata": {},
   "source": [
    "## *REMOVING DUPLICATES*"
   ]
  },
  {
   "cell_type": "code",
   "execution_count": 22,
   "id": "24483c66-35d1-4efd-a5c4-56ff9d86e41a",
   "metadata": {},
   "outputs": [
    {
     "name": "stdout",
     "output_type": "stream",
     "text": [
      "There were 1202 duplicates in your data which have been successfully removed.\n"
     ]
    }
   ],
   "source": [
    "df.drop_duplicates(inplace=True)\n",
    "# shape2 = df.shape[0]\n",
    "print(f\"There were {dups} duplicates in your data which have been successfully removed.\")"
   ]
  },
  {
   "cell_type": "markdown",
   "id": "982ec010-8c87-42b9-9350-23a69d6799e7",
   "metadata": {},
   "source": [
    "### *ADDING COMPANY COLUMN*"
   ]
  },
  {
   "cell_type": "code",
   "execution_count": 23,
   "id": "54587507-7f2f-49f7-a119-ae34a0ec8c94",
   "metadata": {},
   "outputs": [],
   "source": [
    "df['Company'] = df['name'].str.split().str[0]"
   ]
  },
  {
   "cell_type": "code",
   "execution_count": 24,
   "id": "6bfd0516-1f63-4b54-9db3-992b5333ad10",
   "metadata": {},
   "outputs": [],
   "source": [
    "df = df.reindex(columns=['Company', 'name', 'year', 'selling_price', 'km_driven', 'fuel', 'seller_type',\n",
    "       'transmission', 'owner', 'mileage(km/ltr/kg)', 'engine', 'max_power',\n",
    "       'seats'])"
   ]
  },
  {
   "cell_type": "code",
   "execution_count": 25,
   "id": "e31db72b-1943-4bdb-81a5-96a5736c22dc",
   "metadata": {},
   "outputs": [
    {
     "data": {
      "text/html": [
       "<div>\n",
       "<style scoped>\n",
       "    .dataframe tbody tr th:only-of-type {\n",
       "        vertical-align: middle;\n",
       "    }\n",
       "\n",
       "    .dataframe tbody tr th {\n",
       "        vertical-align: top;\n",
       "    }\n",
       "\n",
       "    .dataframe thead th {\n",
       "        text-align: right;\n",
       "    }\n",
       "</style>\n",
       "<table border=\"1\" class=\"dataframe\">\n",
       "  <thead>\n",
       "    <tr style=\"text-align: right;\">\n",
       "      <th></th>\n",
       "      <th>Company</th>\n",
       "      <th>name</th>\n",
       "      <th>year</th>\n",
       "      <th>selling_price</th>\n",
       "      <th>km_driven</th>\n",
       "      <th>fuel</th>\n",
       "      <th>seller_type</th>\n",
       "      <th>transmission</th>\n",
       "      <th>owner</th>\n",
       "      <th>mileage(km/ltr/kg)</th>\n",
       "      <th>engine</th>\n",
       "      <th>max_power</th>\n",
       "      <th>seats</th>\n",
       "    </tr>\n",
       "  </thead>\n",
       "  <tbody>\n",
       "    <tr>\n",
       "      <th>0</th>\n",
       "      <td>Maruti</td>\n",
       "      <td>Maruti Swift Dzire VDI</td>\n",
       "      <td>2014</td>\n",
       "      <td>450000</td>\n",
       "      <td>145500</td>\n",
       "      <td>Diesel</td>\n",
       "      <td>Individual</td>\n",
       "      <td>Manual</td>\n",
       "      <td>First Owner</td>\n",
       "      <td>23.40</td>\n",
       "      <td>1248.0</td>\n",
       "      <td>74.00</td>\n",
       "      <td>5.0</td>\n",
       "    </tr>\n",
       "    <tr>\n",
       "      <th>1</th>\n",
       "      <td>Skoda</td>\n",
       "      <td>Skoda Rapid 1.5 TDI Ambition</td>\n",
       "      <td>2014</td>\n",
       "      <td>370000</td>\n",
       "      <td>120000</td>\n",
       "      <td>Diesel</td>\n",
       "      <td>Individual</td>\n",
       "      <td>Manual</td>\n",
       "      <td>Second Owner</td>\n",
       "      <td>21.14</td>\n",
       "      <td>1498.0</td>\n",
       "      <td>103.52</td>\n",
       "      <td>5.0</td>\n",
       "    </tr>\n",
       "    <tr>\n",
       "      <th>2</th>\n",
       "      <td>Honda</td>\n",
       "      <td>Honda City 2017-2020 EXi</td>\n",
       "      <td>2006</td>\n",
       "      <td>158000</td>\n",
       "      <td>140000</td>\n",
       "      <td>Petrol</td>\n",
       "      <td>Individual</td>\n",
       "      <td>Manual</td>\n",
       "      <td>Third Owner</td>\n",
       "      <td>17.70</td>\n",
       "      <td>1497.0</td>\n",
       "      <td>78.00</td>\n",
       "      <td>5.0</td>\n",
       "    </tr>\n",
       "    <tr>\n",
       "      <th>3</th>\n",
       "      <td>Hyundai</td>\n",
       "      <td>Hyundai i20 Sportz Diesel</td>\n",
       "      <td>2010</td>\n",
       "      <td>225000</td>\n",
       "      <td>127000</td>\n",
       "      <td>Diesel</td>\n",
       "      <td>Individual</td>\n",
       "      <td>Manual</td>\n",
       "      <td>First Owner</td>\n",
       "      <td>23.00</td>\n",
       "      <td>1396.0</td>\n",
       "      <td>90.00</td>\n",
       "      <td>5.0</td>\n",
       "    </tr>\n",
       "    <tr>\n",
       "      <th>4</th>\n",
       "      <td>Maruti</td>\n",
       "      <td>Maruti Swift VXI BSIII</td>\n",
       "      <td>2007</td>\n",
       "      <td>130000</td>\n",
       "      <td>120000</td>\n",
       "      <td>Petrol</td>\n",
       "      <td>Individual</td>\n",
       "      <td>Manual</td>\n",
       "      <td>First Owner</td>\n",
       "      <td>16.10</td>\n",
       "      <td>1298.0</td>\n",
       "      <td>88.20</td>\n",
       "      <td>5.0</td>\n",
       "    </tr>\n",
       "  </tbody>\n",
       "</table>\n",
       "</div>"
      ],
      "text/plain": [
       "   Company                          name  year  selling_price  km_driven  \\\n",
       "0   Maruti        Maruti Swift Dzire VDI  2014         450000     145500   \n",
       "1    Skoda  Skoda Rapid 1.5 TDI Ambition  2014         370000     120000   \n",
       "2    Honda      Honda City 2017-2020 EXi  2006         158000     140000   \n",
       "3  Hyundai     Hyundai i20 Sportz Diesel  2010         225000     127000   \n",
       "4   Maruti        Maruti Swift VXI BSIII  2007         130000     120000   \n",
       "\n",
       "     fuel seller_type transmission         owner  mileage(km/ltr/kg)  engine  \\\n",
       "0  Diesel  Individual       Manual   First Owner               23.40  1248.0   \n",
       "1  Diesel  Individual       Manual  Second Owner               21.14  1498.0   \n",
       "2  Petrol  Individual       Manual   Third Owner               17.70  1497.0   \n",
       "3  Diesel  Individual       Manual   First Owner               23.00  1396.0   \n",
       "4  Petrol  Individual       Manual   First Owner               16.10  1298.0   \n",
       "\n",
       "   max_power  seats  \n",
       "0      74.00    5.0  \n",
       "1     103.52    5.0  \n",
       "2      78.00    5.0  \n",
       "3      90.00    5.0  \n",
       "4      88.20    5.0  "
      ]
     },
     "execution_count": 25,
     "metadata": {},
     "output_type": "execute_result"
    }
   ],
   "source": [
    "df.head()"
   ]
  },
  {
   "cell_type": "code",
   "execution_count": null,
   "id": "c27721b7-8b3c-47f8-b61c-ca6fa723c79d",
   "metadata": {},
   "outputs": [],
   "source": []
  },
  {
   "cell_type": "markdown",
   "id": "31b02e71-d391-43c8-83c8-c129cebc2dfc",
   "metadata": {},
   "source": [
    "### *Taking user input*"
   ]
  },
  {
   "cell_type": "code",
   "execution_count": 26,
   "id": "4348cfa1-a815-49d3-a097-279e4bc82cce",
   "metadata": {},
   "outputs": [
    {
     "name": "stdin",
     "output_type": "stream",
     "text": [
      "Enter the min budget:  710000\n",
      "Enter the max budget:  720000\n",
      "Enter the minimum life span required for the car:  10\n",
      "Enter the fuel type, Diesel, Petrol or CNG:  PETROL\n",
      "Enter the transmission type:  MANUAL\n"
     ]
    }
   ],
   "source": [
    "#user input\n",
    "\n",
    "min_budget = int(input(\"Enter the min budget: \"))\n",
    "max_budget = int(input(\"Enter the max budget: \"))\n",
    "\n",
    "life = int(input(\"Enter the minimum life span required for the car: \"))\n",
    "fuel_type = input(\"Enter the fuel type, Diesel, Petrol or CNG: \")\n",
    "transmission_type = input(\"Enter the transmission type: \")\n"
   ]
  },
  {
   "cell_type": "markdown",
   "id": "c2003556-6421-4d67-9710-5e4c1ba1375a",
   "metadata": {},
   "source": [
    "### *Filtering budget*"
   ]
  },
  {
   "cell_type": "code",
   "execution_count": 27,
   "id": "75323344-fd6c-4549-b0b3-b13f656c2de5",
   "metadata": {},
   "outputs": [],
   "source": [
    "#budget section\n",
    "\n",
    "df1 = df[(df['selling_price'] > min_budget) & (df['selling_price'] < max_budget)].copy()\n"
   ]
  },
  {
   "cell_type": "code",
   "execution_count": null,
   "id": "6320e315-8592-4f15-9a65-372749fea271",
   "metadata": {},
   "outputs": [],
   "source": []
  },
  {
   "cell_type": "code",
   "execution_count": 28,
   "id": "70c4e15c-00b4-4847-a157-203bceef0d77",
   "metadata": {},
   "outputs": [
    {
     "data": {
      "text/html": [
       "<div>\n",
       "<style scoped>\n",
       "    .dataframe tbody tr th:only-of-type {\n",
       "        vertical-align: middle;\n",
       "    }\n",
       "\n",
       "    .dataframe tbody tr th {\n",
       "        vertical-align: top;\n",
       "    }\n",
       "\n",
       "    .dataframe thead th {\n",
       "        text-align: right;\n",
       "    }\n",
       "</style>\n",
       "<table border=\"1\" class=\"dataframe\">\n",
       "  <thead>\n",
       "    <tr style=\"text-align: right;\">\n",
       "      <th></th>\n",
       "      <th>Company</th>\n",
       "      <th>name</th>\n",
       "      <th>year</th>\n",
       "      <th>selling_price</th>\n",
       "      <th>km_driven</th>\n",
       "      <th>fuel</th>\n",
       "      <th>seller_type</th>\n",
       "      <th>transmission</th>\n",
       "      <th>owner</th>\n",
       "      <th>mileage(km/ltr/kg)</th>\n",
       "      <th>engine</th>\n",
       "      <th>max_power</th>\n",
       "      <th>seats</th>\n",
       "      <th>Age</th>\n",
       "    </tr>\n",
       "  </thead>\n",
       "  <tbody>\n",
       "    <tr>\n",
       "      <th>0</th>\n",
       "      <td>Hyundai</td>\n",
       "      <td>Hyundai i20 Asta 1.4 CRDi</td>\n",
       "      <td>2015</td>\n",
       "      <td>715000</td>\n",
       "      <td>50000</td>\n",
       "      <td>Diesel</td>\n",
       "      <td>Individual</td>\n",
       "      <td>Manual</td>\n",
       "      <td>First Owner</td>\n",
       "      <td>22.54</td>\n",
       "      <td>1396.0</td>\n",
       "      <td>88.73</td>\n",
       "      <td>5.0</td>\n",
       "      <td>10</td>\n",
       "    </tr>\n",
       "    <tr>\n",
       "      <th>1</th>\n",
       "      <td>Mahindra</td>\n",
       "      <td>Mahindra Scorpio S4 Plus 4WD</td>\n",
       "      <td>2015</td>\n",
       "      <td>715000</td>\n",
       "      <td>70000</td>\n",
       "      <td>Diesel</td>\n",
       "      <td>Individual</td>\n",
       "      <td>Manual</td>\n",
       "      <td>First Owner</td>\n",
       "      <td>15.40</td>\n",
       "      <td>2179.0</td>\n",
       "      <td>120.00</td>\n",
       "      <td>7.0</td>\n",
       "      <td>10</td>\n",
       "    </tr>\n",
       "    <tr>\n",
       "      <th>2</th>\n",
       "      <td>Maruti</td>\n",
       "      <td>Maruti Swift Dzire VDI</td>\n",
       "      <td>2017</td>\n",
       "      <td>711000</td>\n",
       "      <td>35000</td>\n",
       "      <td>Diesel</td>\n",
       "      <td>Individual</td>\n",
       "      <td>Manual</td>\n",
       "      <td>First Owner</td>\n",
       "      <td>28.40</td>\n",
       "      <td>1248.0</td>\n",
       "      <td>74.02</td>\n",
       "      <td>5.0</td>\n",
       "      <td>8</td>\n",
       "    </tr>\n",
       "    <tr>\n",
       "      <th>3</th>\n",
       "      <td>Maruti</td>\n",
       "      <td>Maruti Ertiga SHVS ZDI Plus</td>\n",
       "      <td>2016</td>\n",
       "      <td>711000</td>\n",
       "      <td>120000</td>\n",
       "      <td>Diesel</td>\n",
       "      <td>Individual</td>\n",
       "      <td>Manual</td>\n",
       "      <td>First Owner</td>\n",
       "      <td>24.52</td>\n",
       "      <td>1248.0</td>\n",
       "      <td>88.50</td>\n",
       "      <td>7.0</td>\n",
       "      <td>9</td>\n",
       "    </tr>\n",
       "    <tr>\n",
       "      <th>4</th>\n",
       "      <td>Hyundai</td>\n",
       "      <td>Hyundai i20 Active 1.4 SX with AVN</td>\n",
       "      <td>2017</td>\n",
       "      <td>715000</td>\n",
       "      <td>60000</td>\n",
       "      <td>Diesel</td>\n",
       "      <td>Individual</td>\n",
       "      <td>Manual</td>\n",
       "      <td>First Owner</td>\n",
       "      <td>21.19</td>\n",
       "      <td>1396.0</td>\n",
       "      <td>88.73</td>\n",
       "      <td>5.0</td>\n",
       "      <td>8</td>\n",
       "    </tr>\n",
       "    <tr>\n",
       "      <th>5</th>\n",
       "      <td>Maruti</td>\n",
       "      <td>Maruti Vitara Brezza LDi Option</td>\n",
       "      <td>2017</td>\n",
       "      <td>711000</td>\n",
       "      <td>53000</td>\n",
       "      <td>Diesel</td>\n",
       "      <td>Individual</td>\n",
       "      <td>Manual</td>\n",
       "      <td>First Owner</td>\n",
       "      <td>24.30</td>\n",
       "      <td>1248.0</td>\n",
       "      <td>88.50</td>\n",
       "      <td>5.0</td>\n",
       "      <td>8</td>\n",
       "    </tr>\n",
       "    <tr>\n",
       "      <th>6</th>\n",
       "      <td>Maruti</td>\n",
       "      <td>Maruti Baleno Alpha 1.2</td>\n",
       "      <td>2019</td>\n",
       "      <td>711000</td>\n",
       "      <td>5000</td>\n",
       "      <td>Petrol</td>\n",
       "      <td>Individual</td>\n",
       "      <td>Manual</td>\n",
       "      <td>First Owner</td>\n",
       "      <td>21.40</td>\n",
       "      <td>1197.0</td>\n",
       "      <td>83.10</td>\n",
       "      <td>5.0</td>\n",
       "      <td>6</td>\n",
       "    </tr>\n",
       "    <tr>\n",
       "      <th>7</th>\n",
       "      <td>Maruti</td>\n",
       "      <td>Maruti Ciaz ZDi Plus SHVS</td>\n",
       "      <td>2016</td>\n",
       "      <td>715000</td>\n",
       "      <td>70000</td>\n",
       "      <td>Diesel</td>\n",
       "      <td>Individual</td>\n",
       "      <td>Manual</td>\n",
       "      <td>Second Owner</td>\n",
       "      <td>28.09</td>\n",
       "      <td>1248.0</td>\n",
       "      <td>88.50</td>\n",
       "      <td>5.0</td>\n",
       "      <td>9</td>\n",
       "    </tr>\n",
       "  </tbody>\n",
       "</table>\n",
       "</div>"
      ],
      "text/plain": [
       "    Company                                name  year  selling_price  \\\n",
       "0   Hyundai           Hyundai i20 Asta 1.4 CRDi  2015         715000   \n",
       "1  Mahindra        Mahindra Scorpio S4 Plus 4WD  2015         715000   \n",
       "2    Maruti              Maruti Swift Dzire VDI  2017         711000   \n",
       "3    Maruti         Maruti Ertiga SHVS ZDI Plus  2016         711000   \n",
       "4   Hyundai  Hyundai i20 Active 1.4 SX with AVN  2017         715000   \n",
       "5    Maruti     Maruti Vitara Brezza LDi Option  2017         711000   \n",
       "6    Maruti             Maruti Baleno Alpha 1.2  2019         711000   \n",
       "7    Maruti           Maruti Ciaz ZDi Plus SHVS  2016         715000   \n",
       "\n",
       "   km_driven    fuel seller_type transmission         owner  \\\n",
       "0      50000  Diesel  Individual       Manual   First Owner   \n",
       "1      70000  Diesel  Individual       Manual   First Owner   \n",
       "2      35000  Diesel  Individual       Manual   First Owner   \n",
       "3     120000  Diesel  Individual       Manual   First Owner   \n",
       "4      60000  Diesel  Individual       Manual   First Owner   \n",
       "5      53000  Diesel  Individual       Manual   First Owner   \n",
       "6       5000  Petrol  Individual       Manual   First Owner   \n",
       "7      70000  Diesel  Individual       Manual  Second Owner   \n",
       "\n",
       "   mileage(km/ltr/kg)  engine  max_power  seats  Age  \n",
       "0               22.54  1396.0      88.73    5.0   10  \n",
       "1               15.40  2179.0     120.00    7.0   10  \n",
       "2               28.40  1248.0      74.02    5.0    8  \n",
       "3               24.52  1248.0      88.50    7.0    9  \n",
       "4               21.19  1396.0      88.73    5.0    8  \n",
       "5               24.30  1248.0      88.50    5.0    8  \n",
       "6               21.40  1197.0      83.10    5.0    6  \n",
       "7               28.09  1248.0      88.50    5.0    9  "
      ]
     },
     "execution_count": 28,
     "metadata": {},
     "output_type": "execute_result"
    }
   ],
   "source": [
    "df1['Age'] = current_year - df1['year']\n",
    "df1.reset_index(drop=True)"
   ]
  },
  {
   "cell_type": "markdown",
   "id": "5e914858-caa9-4e02-840d-ce50c707b5e1",
   "metadata": {},
   "source": [
    "### *Evaluate Age of cars and filtering by life span*"
   ]
  },
  {
   "cell_type": "code",
   "execution_count": 29,
   "id": "222b56d4-edee-4d7a-9475-6d7ca4569d3a",
   "metadata": {},
   "outputs": [],
   "source": [
    "\n",
    "# life_span = []\n",
    "# for i in range(df1.shape[0]):\n",
    "#     n = current_year - df1.loc[i, 'year']\n",
    "#     life_span.append(int(n))\n",
    "\n",
    "# df1.loc[:,'Age'] = life_span \n",
    "# df1 = df1[df1['Age'] <= life].copy()\n"
   ]
  },
  {
   "cell_type": "markdown",
   "id": "70a8c708-d44f-4bc6-b94a-4b470a1882bf",
   "metadata": {},
   "source": [
    "### *Filtering fuel type*"
   ]
  },
  {
   "cell_type": "code",
   "execution_count": 30,
   "id": "37f511b0-5f69-409b-a3d4-4bfcd0569bf5",
   "metadata": {},
   "outputs": [],
   "source": [
    "##### fuel section\n",
    "\n",
    "fuel_type = fuel_type.capitalize()\n",
    "df1 = df1[df1['fuel'] == fuel_type]\n",
    "\n"
   ]
  },
  {
   "cell_type": "markdown",
   "id": "fe135a36-76cd-4f9d-b483-73af552d7f63",
   "metadata": {},
   "source": [
    "### *Transmission section*"
   ]
  },
  {
   "cell_type": "code",
   "execution_count": 37,
   "id": "df023f09-4d2f-457b-8df9-952253e82112",
   "metadata": {},
   "outputs": [],
   "source": [
    "transmission_type = transmission_type.capitalize()\n",
    "df1 = df1[df1['transmission'] == transmission_type].reset_index(drop=True)"
   ]
  },
  {
   "cell_type": "markdown",
   "id": "f8fd44f4-0b84-4088-b733-d6af84a3c4db",
   "metadata": {},
   "source": [
    "### *Displaying the available cars*"
   ]
  },
  {
   "cell_type": "code",
   "execution_count": 39,
   "id": "9647a0a8-57db-4ef5-a572-d1a950ad2245",
   "metadata": {},
   "outputs": [
    {
     "name": "stdout",
     "output_type": "stream",
     "text": [
      "There is only 1 car available which is -> Maruti Baleno Alpha 1.2\n"
     ]
    }
   ],
   "source": [
    "available = df1.shape[0]\n",
    "if available == 0:\n",
    "    print(\"There are no cars available.\")\n",
    "elif available == 1:\n",
    "    print(f\"There is only 1 car available which is -> {df1.loc[0,'name']}\")\n",
    "else: \n",
    "    print(f\"There are {available} cars available:\\n{df1.iloc[:,0]}\")\n",
    "\n",
    " "
   ]
  },
  {
   "cell_type": "markdown",
   "id": "b759b711-ec1c-4978-a432-5321bd29c584",
   "metadata": {},
   "source": [
    "### *calculating price to mileage ratio*"
   ]
  },
  {
   "cell_type": "code",
   "execution_count": 40,
   "id": "f2356673-6d6f-45ef-b9a3-c73c6ce402a5",
   "metadata": {},
   "outputs": [
    {
     "data": {
      "text/html": [
       "<div>\n",
       "<style scoped>\n",
       "    .dataframe tbody tr th:only-of-type {\n",
       "        vertical-align: middle;\n",
       "    }\n",
       "\n",
       "    .dataframe tbody tr th {\n",
       "        vertical-align: top;\n",
       "    }\n",
       "\n",
       "    .dataframe thead th {\n",
       "        text-align: right;\n",
       "    }\n",
       "</style>\n",
       "<table border=\"1\" class=\"dataframe\">\n",
       "  <thead>\n",
       "    <tr style=\"text-align: right;\">\n",
       "      <th></th>\n",
       "      <th>Company</th>\n",
       "      <th>name</th>\n",
       "      <th>year</th>\n",
       "      <th>selling_price</th>\n",
       "      <th>km_driven</th>\n",
       "      <th>fuel</th>\n",
       "      <th>seller_type</th>\n",
       "      <th>transmission</th>\n",
       "      <th>owner</th>\n",
       "      <th>mileage(km/ltr/kg)</th>\n",
       "      <th>engine</th>\n",
       "      <th>max_power</th>\n",
       "      <th>seats</th>\n",
       "      <th>Age</th>\n",
       "      <th>price to mileage ratio</th>\n",
       "    </tr>\n",
       "  </thead>\n",
       "  <tbody>\n",
       "    <tr>\n",
       "      <th>0</th>\n",
       "      <td>Maruti</td>\n",
       "      <td>Maruti Baleno Alpha 1.2</td>\n",
       "      <td>2019</td>\n",
       "      <td>711000</td>\n",
       "      <td>5000</td>\n",
       "      <td>Petrol</td>\n",
       "      <td>Individual</td>\n",
       "      <td>Manual</td>\n",
       "      <td>First Owner</td>\n",
       "      <td>21.4</td>\n",
       "      <td>1197.0</td>\n",
       "      <td>83.1</td>\n",
       "      <td>5.0</td>\n",
       "      <td>6</td>\n",
       "      <td>33224.3</td>\n",
       "    </tr>\n",
       "  </tbody>\n",
       "</table>\n",
       "</div>"
      ],
      "text/plain": [
       "  Company                     name  year  selling_price  km_driven    fuel  \\\n",
       "0  Maruti  Maruti Baleno Alpha 1.2  2019         711000       5000  Petrol   \n",
       "\n",
       "  seller_type transmission        owner  mileage(km/ltr/kg)  engine  \\\n",
       "0  Individual       Manual  First Owner                21.4  1197.0   \n",
       "\n",
       "   max_power  seats  Age  price to mileage ratio  \n",
       "0       83.1    5.0    6                 33224.3  "
      ]
     },
     "execution_count": 40,
     "metadata": {},
     "output_type": "execute_result"
    }
   ],
   "source": [
    "ratio = (df1['selling_price']) / (df1['mileage(km/ltr/kg)'])\n",
    "\n",
    "df1['price to mileage ratio'] = ratio.round(2)\n",
    "\n",
    "\n",
    "\n",
    "df2 = df1.sort_values('price to mileage ratio').head(10).copy()\n",
    "\n",
    "df2.reset_index(drop=True)\n"
   ]
  },
  {
   "cell_type": "code",
   "execution_count": 41,
   "id": "ce599781-1ab4-42dd-a58f-4c97a3019d0e",
   "metadata": {},
   "outputs": [
    {
     "name": "stdout",
     "output_type": "stream",
     "text": [
      "The leading cars having the minimum Price:Mileage ratio and fewest km driven available within your preferred options are: \n"
     ]
    },
    {
     "data": {
      "text/html": [
       "<div>\n",
       "<style scoped>\n",
       "    .dataframe tbody tr th:only-of-type {\n",
       "        vertical-align: middle;\n",
       "    }\n",
       "\n",
       "    .dataframe tbody tr th {\n",
       "        vertical-align: top;\n",
       "    }\n",
       "\n",
       "    .dataframe thead th {\n",
       "        text-align: right;\n",
       "    }\n",
       "</style>\n",
       "<table border=\"1\" class=\"dataframe\">\n",
       "  <thead>\n",
       "    <tr style=\"text-align: right;\">\n",
       "      <th></th>\n",
       "      <th>Company</th>\n",
       "      <th>name</th>\n",
       "      <th>year</th>\n",
       "      <th>selling_price</th>\n",
       "      <th>km_driven</th>\n",
       "      <th>fuel</th>\n",
       "      <th>seller_type</th>\n",
       "      <th>transmission</th>\n",
       "      <th>owner</th>\n",
       "      <th>mileage(km/ltr/kg)</th>\n",
       "      <th>engine</th>\n",
       "      <th>max_power</th>\n",
       "      <th>seats</th>\n",
       "      <th>Age</th>\n",
       "      <th>price to mileage ratio</th>\n",
       "    </tr>\n",
       "  </thead>\n",
       "  <tbody>\n",
       "    <tr>\n",
       "      <th>0</th>\n",
       "      <td>Maruti</td>\n",
       "      <td>Maruti Baleno Alpha 1.2</td>\n",
       "      <td>2019</td>\n",
       "      <td>711000</td>\n",
       "      <td>5000</td>\n",
       "      <td>Petrol</td>\n",
       "      <td>Individual</td>\n",
       "      <td>Manual</td>\n",
       "      <td>First Owner</td>\n",
       "      <td>21.4</td>\n",
       "      <td>1197.0</td>\n",
       "      <td>83.1</td>\n",
       "      <td>5.0</td>\n",
       "      <td>6</td>\n",
       "      <td>33224.3</td>\n",
       "    </tr>\n",
       "  </tbody>\n",
       "</table>\n",
       "</div>"
      ],
      "text/plain": [
       "  Company                     name  year  selling_price  km_driven    fuel  \\\n",
       "0  Maruti  Maruti Baleno Alpha 1.2  2019         711000       5000  Petrol   \n",
       "\n",
       "  seller_type transmission        owner  mileage(km/ltr/kg)  engine  \\\n",
       "0  Individual       Manual  First Owner                21.4  1197.0   \n",
       "\n",
       "   max_power  seats  Age  price to mileage ratio  \n",
       "0       83.1    5.0    6                 33224.3  "
      ]
     },
     "execution_count": 41,
     "metadata": {},
     "output_type": "execute_result"
    }
   ],
   "source": [
    "print(\"The leading cars having the minimum Price:Mileage ratio and fewest km driven available within your preferred options are: \")\n",
    "df2 = df2.nsmallest(5, 'km_driven')\n",
    "df2.reset_index(drop=True)"
   ]
  },
  {
   "cell_type": "markdown",
   "id": "1d022c8e-ea0b-40f5-8bd3-541d4e9cdee0",
   "metadata": {},
   "source": [
    "### *plotting selling price vs p-m ratio of the suggested top cars*"
   ]
  },
  {
   "cell_type": "code",
   "execution_count": 35,
   "id": "f2d516f6-a616-4842-af17-7616f018df75",
   "metadata": {},
   "outputs": [
    {
     "data": {
      "image/png": "[encoded data removed]",
      "text/plain": [
       "<Figure size 640x480 with 1 Axes>"
      ]
     },
     "metadata": {},
     "output_type": "display_data"
    }
   ],
   "source": [
    "\n",
    "sns.barplot(x='price to mileage ratio', y='selling_price', data=df2,hue='name', palette='coolwarm')\n",
    "plt.title(\"Top 5 recommended cars\")\n",
    "plt.legend(fontsize=8)\n",
    "plt.show()\n"
   ]
  },
  {
   "cell_type": "code",
   "execution_count": null,
   "id": "ea9ef578-da64-40d2-a326-473a2084a6c7",
   "metadata": {},
   "outputs": [],
   "source": []
  }
 ],
 "metadata": {
  "kernelspec": {
   "display_name": "Python 3 (ipykernel)",
   "language": "python",
   "name": "python3"
  },
  "language_info": {
   "codemirror_mode": {
    "name": "ipython",
    "version": 3
   },
   "file_extension": ".py",
   "mimetype": "text/x-python",
   "name": "python",
   "nbconvert_exporter": "python",
   "pygments_lexer": "ipython3",
   "version": "3.11.4"
  }
 },
 "nbformat": 4,
 "nbformat_minor": 5
}
